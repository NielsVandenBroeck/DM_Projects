{
 "cells": [
  {
   "metadata": {},
   "cell_type": "markdown",
   "source": "# Clustering",
   "id": "2ae5053a8c69f0dd"
  },
  {
   "metadata": {},
   "cell_type": "markdown",
   "source": "## Task 1: Data Preprocessing",
   "id": "f5aa5d68c54a0ce0"
  },
  {
   "metadata": {},
   "cell_type": "markdown",
   "source": "As always, we need to load in the dataset in pandas. We immediately concatenate the Summary and text parts to get one combined text. After that, html tags are removed.",
   "id": "e2ecbf18b6dd2afc"
  },
  {
   "cell_type": "code",
   "id": "initial_id",
   "metadata": {
    "collapsed": true,
    "ExecuteTime": {
     "end_time": "2025-06-12T12:43:05.081795Z",
     "start_time": "2025-06-12T12:43:03.974410Z"
    }
   },
   "source": [
    "import pandas as pd\n",
    "import re\n",
    "\n",
    "# Load csv\n",
    "df = pd.read_csv('../datasets/reviews.csv')\n",
    "df[\"full_review\"] = df[\"Summary\"].fillna(\"\") + \" \" + df[\"Text\"].fillna(\"\")\n",
    "\n",
    "def remove_html(text):\n",
    "    # Remove everything between <>, replace with space\n",
    "    return re.sub(r\"<.*?>\", \" \", text)\n",
    "\n",
    "df[\"full_review\"] = df[\"full_review\"].apply(remove_html)\n",
    "\n",
    "print(\"Number of reviews:\", len(df))\n",
    "print(\"Sample review:\\n\", df[\"full_review\"].iloc[0])\n"
   ],
   "outputs": [
    {
     "name": "stdout",
     "output_type": "stream",
     "text": [
      "Number of reviews: 10000\n",
      "Sample review:\n",
      " Crunchy & Good Gluten-Free Sandwich Cookies! Having tried a couple of other brands of gluten-free sandwich cookies, these are the best of the bunch.  They're crunchy and true to the texture of the other \"real\" cookies that aren't gluten-free.  Some might think that the filling makes them a bit too sweet, but for me that just means I've satisfied my sweet tooth sooner!  The chocolate version from Glutino is just as good and has a true \"chocolatey\" taste - something that isn't there with the other gluten-free brands out there.\n"
     ]
    }
   ],
   "execution_count": 1
  },
  {
   "metadata": {},
   "cell_type": "markdown",
   "source": "We will make the text more usable for the algorithm later on. We remove stop words, lowercase everything and lemmatize the text.",
   "id": "93d6af7a898ec43d"
  },
  {
   "metadata": {
    "ExecuteTime": {
     "end_time": "2025-06-12T12:43:19.122938Z",
     "start_time": "2025-06-12T12:43:10.748145Z"
    }
   },
   "cell_type": "code",
   "source": [
    "import nltk\n",
    "from nltk.corpus import stopwords\n",
    "from nltk.stem import WordNetLemmatizer\n",
    "\n",
    "stop_words = set(stopwords.words('english'))\n",
    "lemmatizer = WordNetLemmatizer()\n",
    "\n",
    "def preprocess(text):\n",
    "    text = text.lower()\n",
    "    tokens = nltk.word_tokenize(text)\n",
    "    # Keep only letters\n",
    "    tokens = [t for t in tokens if t.isalpha()]\n",
    "    # Optional 1: Removes stopwords\n",
    "    tokens = [t for t in tokens if t not in stop_words]\n",
    "    # Optional 2: lemmatize\n",
    "    tokens = [lemmatizer.lemmatize(t) for t in tokens]\n",
    "    return \" \".join(tokens)\n",
    "\n",
    "df[\"clean_review\"] = df[\"full_review\"].apply(preprocess)\n",
    "print(\"Cleaned review sample:\\n\", df[\"clean_review\"].iloc[0])"
   ],
   "id": "2e65da3dd0c361cf",
   "outputs": [
    {
     "name": "stdout",
     "output_type": "stream",
     "text": [
      "Cleaned review sample:\n",
      " crunchy good sandwich cooky tried couple brand sandwich cooky best bunch crunchy true texture real cooky might think filling make bit sweet mean satisfied sweet tooth sooner chocolate version glutino good true chocolatey taste something brand\n"
     ]
    }
   ],
   "execution_count": 2
  },
  {
   "metadata": {},
   "cell_type": "markdown",
   "source": "Now, 3 types of preprocessing are applied to experiment their performance.",
   "id": "3027b6635e7169c"
  },
  {
   "metadata": {},
   "cell_type": "markdown",
   "source": "1. Bag of Words",
   "id": "6c2dd27ab5f2abb0"
  },
  {
   "metadata": {
    "ExecuteTime": {
     "end_time": "2025-06-12T12:43:22.242755Z",
     "start_time": "2025-06-12T12:43:22.035801Z"
    }
   },
   "cell_type": "code",
   "source": [
    "from sklearn.feature_extraction.text import CountVectorizer\n",
    "\n",
    "# Leave out words if in less than 5 rewiews, leave out if in more than 95% of reviews\n",
    "vectorizer = CountVectorizer(max_df=0.70, min_df=50)\n",
    "\n",
    "X_BoW = vectorizer.fit_transform(df[\"clean_review\"])\n",
    "print(\"Bag-of-Words matrix shape:\", X_BoW.shape)\n",
    "#bow_df = pd.DataFrame(X_BoW.toarray(), columns=vectorizer.get_feature_names_out())\n",
    "#bow_df.head()\n"
   ],
   "id": "5670f882b6784db9",
   "outputs": [
    {
     "name": "stdout",
     "output_type": "stream",
     "text": [
      "Bag-of-Words matrix shape: (10000, 1144)\n"
     ]
    }
   ],
   "execution_count": 3
  },
  {
   "metadata": {},
   "cell_type": "markdown",
   "source": "2. Bert",
   "id": "a6ffc9f1a39626f3"
  },
  {
   "metadata": {
    "ExecuteTime": {
     "end_time": "2025-06-12T12:43:42.740788Z",
     "start_time": "2025-06-12T12:43:27.725451Z"
    }
   },
   "cell_type": "code",
   "source": [
    "from sentence_transformers import SentenceTransformer\n",
    "\n",
    "# Load a pre-trained BERT model\n",
    "model = SentenceTransformer('all-MiniLM-L6-v2')\n",
    "\n",
    "# Compute sentence embeddings from clean reviews\n",
    "embeddings = model.encode(df[\"full_review\"].tolist(), show_progress_bar=True)\n",
    "\n",
    "# Convert to numpy array if needed\n",
    "import numpy as np\n",
    "X_bert = np.array(embeddings)\n",
    "\n",
    "print(\"BERT embedding shape:\", X_bert.shape)"
   ],
   "id": "91844c92f14c1557",
   "outputs": [
    {
     "name": "stderr",
     "output_type": "stream",
     "text": [
      "/home/nielsvandenbroeck/School/DM/DM_Projects/.venv/lib/python3.12/site-packages/tqdm/auto.py:21: TqdmWarning: IProgress not found. Please update jupyter and ipywidgets. See https://ipywidgets.readthedocs.io/en/stable/user_install.html\n",
      "  from .autonotebook import tqdm as notebook_tqdm\n",
      "Batches: 100%|██████████| 313/313 [00:08<00:00, 38.16it/s]\n"
     ]
    },
    {
     "name": "stdout",
     "output_type": "stream",
     "text": [
      "BERT embedding shape: (10000, 384)\n"
     ]
    }
   ],
   "execution_count": 4
  },
  {
   "metadata": {},
   "cell_type": "markdown",
   "source": "3. UMAP",
   "id": "76a01ec29ad55928"
  },
  {
   "metadata": {
    "ExecuteTime": {
     "end_time": "2025-06-12T12:44:31.245229Z",
     "start_time": "2025-06-12T12:44:12.146795Z"
    }
   },
   "cell_type": "code",
   "source": [
    "from umap import UMAP\n",
    "from sklearn.preprocessing import StandardScaler\n",
    "\n",
    "# Scale first for UMAP\n",
    "X_scaled = StandardScaler().fit_transform(X_bert)\n",
    "\n",
    "# Reduce to 10 dimensions\n",
    "umap = UMAP(n_components=10)\n",
    "X_bert_UMAP = umap.fit_transform(X_scaled)\n",
    "print(\"BERT reduced embedding shape:\", X_bert_UMAP.shape)"
   ],
   "id": "867c3de4469baf1b",
   "outputs": [
    {
     "name": "stderr",
     "output_type": "stream",
     "text": [
      "/home/nielsvandenbroeck/School/DM/DM_Projects/.venv/lib/python3.12/site-packages/sklearn/utils/deprecation.py:151: FutureWarning: 'force_all_finite' was renamed to 'ensure_all_finite' in 1.6 and will be removed in 1.8.\n",
      "  warnings.warn(\n"
     ]
    },
    {
     "name": "stdout",
     "output_type": "stream",
     "text": [
      "BERT reduced embedding shape: (10000, 10)\n"
     ]
    }
   ],
   "execution_count": 5
  },
  {
   "metadata": {},
   "cell_type": "markdown",
   "source": "## Task 2: Clustering and Evaluation",
   "id": "180c46a3a7a3fb44"
  },
  {
   "metadata": {},
   "cell_type": "markdown",
   "source": "We introduce 5 clustering algorithms we can experiment with",
   "id": "e446bd68b71edf82"
  },
  {
   "metadata": {},
   "cell_type": "markdown",
   "source": "1. Kmeans clustering",
   "id": "6dcaffeaa68b8462"
  },
  {
   "metadata": {
    "ExecuteTime": {
     "end_time": "2025-06-12T12:44:34.852814Z",
     "start_time": "2025-06-12T12:44:34.808960Z"
    }
   },
   "cell_type": "code",
   "source": [
    "from sklearn.cluster import KMeans\n",
    "\n",
    "def kmeans_clustering(X, k=10):\n",
    "    kmeans = KMeans(n_clusters=k, n_init=\"auto\")\n",
    "    labels = kmeans.fit_predict(X)\n",
    "    sil = silhouette_score(X, labels)\n",
    "    return sil,labels\n"
   ],
   "id": "fb231690854272b",
   "outputs": [],
   "execution_count": 6
  },
  {
   "metadata": {},
   "cell_type": "markdown",
   "source": "2. agglomerative clustering",
   "id": "d65f13cf5cd43117"
  },
  {
   "metadata": {
    "ExecuteTime": {
     "end_time": "2025-06-12T12:44:36.182659Z",
     "start_time": "2025-06-12T12:44:36.177158Z"
    }
   },
   "cell_type": "code",
   "source": [
    "from sklearn.cluster import AgglomerativeClustering\n",
    "from sklearn.metrics import silhouette_score\n",
    "\n",
    "def agglomerative_clustering(X, k=10, linkage='complete', metric=\"euclidean\"):\n",
    "    clustering = AgglomerativeClustering(n_clusters=k, linkage=linkage, metric=metric)\n",
    "    labels = clustering.fit_predict(X)\n",
    "    sil = silhouette_score(X, labels)\n",
    "    return sil,labels\n"
   ],
   "id": "4f5c7d198f4d01b",
   "outputs": [],
   "execution_count": 7
  },
  {
   "metadata": {},
   "cell_type": "markdown",
   "source": "3. Gaussian Mixture Models",
   "id": "ca115424dbe87dc2"
  },
  {
   "metadata": {
    "ExecuteTime": {
     "end_time": "2025-06-12T12:44:38.141146Z",
     "start_time": "2025-06-12T12:44:38.118383Z"
    }
   },
   "cell_type": "code",
   "source": [
    "from sklearn.mixture import GaussianMixture\n",
    "\n",
    "def gmm_clustering(X, k=10):\n",
    "    gmm = GaussianMixture(n_components=k, random_state=42)\n",
    "    labels = gmm.fit_predict(X)\n",
    "    sil = silhouette_score(X, labels)\n",
    "    return sil,labels\n"
   ],
   "id": "1c58f20f9cd3320",
   "outputs": [],
   "execution_count": 8
  },
  {
   "metadata": {},
   "cell_type": "markdown",
   "source": "4. Spectral clustering",
   "id": "8073d98318fac0db"
  },
  {
   "metadata": {
    "ExecuteTime": {
     "end_time": "2025-06-12T12:44:39.771960Z",
     "start_time": "2025-06-12T12:44:39.765468Z"
    }
   },
   "cell_type": "code",
   "source": [
    "from sklearn.cluster import SpectralClustering\n",
    "\n",
    "def spectral_clustering(X, k=10, affinity='rbf', n_neighbors=10):\n",
    "    try:\n",
    "        sc = SpectralClustering(n_clusters=k, affinity=affinity, random_state=42, assign_labels='kmeans', n_neighbors=n_neighbors)\n",
    "        labels = sc.fit_predict(X)\n",
    "        sil = silhouette_score(X, labels)\n",
    "        return sil,labels\n",
    "    except Exception as e:\n",
    "        print(f\"Spectral clustering with k={k} failed: {e}\")\n",
    "        return None\n"
   ],
   "id": "d1f2443d14630be7",
   "outputs": [],
   "execution_count": 9
  },
  {
   "metadata": {},
   "cell_type": "markdown",
   "source": "5. Dbscan clustering",
   "id": "b8edc9de424a0902"
  },
  {
   "metadata": {
    "ExecuteTime": {
     "end_time": "2025-06-12T12:44:41.188774Z",
     "start_time": "2025-06-12T12:44:41.182640Z"
    }
   },
   "cell_type": "code",
   "source": [
    "from sklearn.cluster import DBSCAN\n",
    "\n",
    "def dbscan_clustering(X, eps_value=0.3, min_samples=5, metric=\"euclidean\"):\n",
    "    db = DBSCAN(eps=eps_value, min_samples=min_samples, metric=metric)\n",
    "    labels = db.fit_predict(X)\n",
    "    n_clusters = len(set(labels)) - (1 if -1 in labels else 0)\n",
    "    if n_clusters > 1:\n",
    "        sil = silhouette_score(X, labels)\n",
    "        return sil,labels\n",
    "    else:\n",
    "        print(f\"[DBSCAN] with eps={eps_value}, insufficient clusters (only 1 or noise).\")\n",
    "        return None\n"
   ],
   "id": "3de607164e18684e",
   "outputs": [],
   "execution_count": 10
  },
  {
   "metadata": {},
   "cell_type": "markdown",
   "source": "## Compare everything",
   "id": "32a7db080c8f4893"
  },
  {
   "metadata": {},
   "cell_type": "markdown",
   "source": "We can check which words are most present in each cluster using the following code.",
   "id": "6b336f5ab69cdde9"
  },
  {
   "metadata": {
    "ExecuteTime": {
     "end_time": "2025-06-12T12:57:57.748472Z",
     "start_time": "2025-06-12T12:57:57.743259Z"
    }
   },
   "cell_type": "code",
   "source": [
    "import numpy as np\n",
    "\n",
    "def print_common_words(labels):\n",
    "    # 1. Retrieve feature names\n",
    "    terms = vectorizer.get_feature_names_out()\n",
    "\n",
    "    # 2. Loop over each cluster and compute top terms\n",
    "    n_clusters = len(np.unique(labels))\n",
    "    top_n = 10\n",
    "\n",
    "    for cluster_id in range(n_clusters):\n",
    "        cluster_docs = np.where(labels == cluster_id)[0]\n",
    "        cluster_center = X_BoW[cluster_docs].sum(axis=0)\n",
    "\n",
    "        if hasattr(cluster_center, \"toarray\"):\n",
    "            cluster_center = cluster_center.toarray().ravel()\n",
    "        else:\n",
    "            cluster_center = np.asarray(cluster_center).ravel()\n",
    "\n",
    "        top_indices = cluster_center.argsort()[::-1][:top_n]\n",
    "        top_terms = [terms[i] for i in top_indices]\n",
    "        scores = [cluster_center[i] for i in top_indices]\n",
    "\n",
    "        print(f\"Cluster {cluster_id} top {top_n} terms:\")\n",
    "        for term, score in zip(top_terms, scores):\n",
    "            print(f\"  {term}: {score:.4f}\")"
   ],
   "id": "5d5da97485d05ba2",
   "outputs": [],
   "execution_count": 27
  },
  {
   "metadata": {},
   "cell_type": "markdown",
   "source": "It is possible to show the clusters in a 2 dimensional plot.",
   "id": "67ec339f309e176b"
  },
  {
   "metadata": {
    "ExecuteTime": {
     "end_time": "2025-06-12T13:16:11.663520Z",
     "start_time": "2025-06-12T13:16:11.658976Z"
    }
   },
   "cell_type": "code",
   "source": [
    "import matplotlib.pyplot as plt\n",
    "import umap\n",
    "from sklearn.metrics import silhouette_score\n",
    "from sklearn.cluster import AgglomerativeClustering\n",
    "from matplotlib.colors import ListedColormap, BoundaryNorm\n",
    "\n",
    "\n",
    "def plot_clusters(X, labels, title=\"Agglomerative Clustering (UMAP)\", k=4):\n",
    "    # Reduce to 2D\n",
    "    reducer = umap.UMAP(n_components=2, random_state=42)\n",
    "    X_2d = reducer.fit_transform(X)\n",
    "\n",
    "    # Set up discrete colormap\n",
    "    cmap = ListedColormap(plt.cm.tab10.colors[:k])\n",
    "    norm = BoundaryNorm(boundaries=np.arange(-0.5, k + 0.5, 1), ncolors=k)\n",
    "\n",
    "    # Plot\n",
    "    plt.figure(figsize=(8, 6))\n",
    "    scatter = plt.scatter(X_2d[:, 0], X_2d[:, 1], c=labels, cmap=cmap, norm=norm, s=30, alpha=0.8)\n",
    "    plt.title(title)\n",
    "    plt.xlabel(\"UMAP 1\")\n",
    "    plt.ylabel(\"UMAP 2\")\n",
    "\n",
    "    # Add discrete colorbar\n",
    "    cbar = plt.colorbar(scatter, ticks=range(k))\n",
    "    cbar.set_label(\"Cluster Label\")\n",
    "    cbar.set_ticks(range(k))\n",
    "    cbar.set_ticklabels([f\"Cluster {i}\" for i in range(k)])\n",
    "\n",
    "    plt.tight_layout()\n",
    "    plt.savefig(\"clusters.png\", dpi=300, bbox_inches='tight')\n",
    "    plt.show()"
   ],
   "id": "2793d4dd62a9e699",
   "outputs": [],
   "execution_count": 42
  },
  {
   "metadata": {},
   "cell_type": "markdown",
   "source": "Test model takes a clustering algorithm, the embeddings of a preprocessing method and combinations of hyperparameters. All these are parameters are tested and stored in the results list.",
   "id": "e8d81840b39e907"
  },
  {
   "metadata": {
    "ExecuteTime": {
     "end_time": "2025-06-12T12:45:35.347066Z",
     "start_time": "2025-06-12T12:45:35.339191Z"
    }
   },
   "cell_type": "code",
   "source": [
    "from itertools import product\n",
    "\n",
    "# Contains all results of each run\n",
    "results = []\n",
    "\n",
    "def test_model(model_func, X, param_grid):\n",
    "    best_score = -1\n",
    "    best_params = {}\n",
    "    all_combinations = list(product(*param_grid.values()))\n",
    "\n",
    "    for combo in all_combinations:\n",
    "        params = dict(zip(param_grid.keys(), combo))\n",
    "        try:\n",
    "            score, _ = model_func(X, **params)\n",
    "            if score is not None and score > best_score:\n",
    "                best_score = score\n",
    "                best_params = params\n",
    "            results.append({\n",
    "                \"data_name\": data_name,\n",
    "                \"model_name\": model_name,\n",
    "                \"params\": params,\n",
    "                \"silhouette\": score\n",
    "            })\n",
    "            print(f\"Params: {params}, silhouette: {score:.4f}\" if score else f\"Params: {params}, failed\")\n",
    "\n",
    "        # Store error if something failed\n",
    "        except Exception as e:\n",
    "            results.append({\n",
    "                \"data_name\": data_name,\n",
    "                \"model_name\": model_name,\n",
    "                \"params\": params,\n",
    "                \"silhouette\": None,\n",
    "                \"error\": str(e)\n",
    "            })\n",
    "            print(f\"Params: {params}, error: {e}\")\n",
    "\n",
    "    return best_params, best_score"
   ],
   "id": "ecc270a63193f8a5",
   "outputs": [],
   "execution_count": 11
  },
  {
   "metadata": {},
   "cell_type": "markdown",
   "source": "Now we can simply run all combinations.",
   "id": "35b585c95e4d6177"
  },
  {
   "metadata": {
    "ExecuteTime": {
     "end_time": "2025-05-25T18:25:31.055219Z",
     "start_time": "2025-05-25T18:00:18.529670Z"
    }
   },
   "cell_type": "code",
   "source": [
    "import matplotlib.pyplot as plt\n",
    "from sklearn.preprocessing import normalize\n",
    "\n",
    "X_dict = {\n",
    "    \"UMAP\": X_bert_UMAP,\n",
    "    \"BoW\": X_BoW,\n",
    "    \"BERT\": X_bert,\n",
    "}\n",
    "\n",
    "X_param_grid = {\n",
    "    \"BoW\": {\"normalize_input\": False},\n",
    "    \"BERT\": {\"normalize_input\": True},\n",
    "    \"UMAP\": {\"normalize_input\": False}\n",
    "}\n",
    "\n",
    "model_functions = {\n",
    "    \"kmeans\": kmeans_clustering,\n",
    "    \"agglomerative\": agglomerative_clustering,\n",
    "    \"gmm\": gmm_clustering,\n",
    "    \"spectral\": spectral_clustering,\n",
    "    \"dbscan\": dbscan_clustering\n",
    "}\n",
    "\n",
    "parameters = {\n",
    "    \"kmeans\": {\n",
    "        \"k\": [4, 6, 8, 10],\n",
    "    },\n",
    "    \"gmm\": {\n",
    "        \"k\": [4, 6, 8, 10],\n",
    "    },\n",
    "    \"agglomerative\": {\n",
    "        \"k\": [4, 6, 8, 10],\n",
    "        \"linkage\": [\"complete\", \"average\", \"single\"],\n",
    "        \"metric\": [\"euclidean\", \"manhattan\", \"cosine\"],\n",
    "    },\n",
    "    \"spectral\": {\n",
    "        \"k\": [4, 6, 8, 10],\n",
    "        \"affinity\": [\"rbf\", \"nearest_neighbors\"],\n",
    "        #\"n_neighbors\": [10, 20, 30],\n",
    "    },\n",
    "    \"dbscan\": {\n",
    "        \"eps_value\": [0.3, 0.5, 0.7],\n",
    "        \"min_samples\": [3, 8],\n",
    "        \"metric\": [\"euclidean\", \"manhattan\"],\n",
    "    }\n",
    "}\n",
    "\n",
    "\n",
    "\n",
    "for data_name, X in X_dict.items():\n",
    "    normalize_flag = X_param_grid.get(data_name)[\"normalize_input\"]\n",
    "    X = normalize(X) if normalize_flag else X\n",
    "    for model_name, param_grid in parameters.items():\n",
    "        print(f\"\\nTesting {model_name} on {data_name}\")\n",
    "        model_func = model_functions[model_name]\n",
    "\n",
    "        X1 = X.toarray() if (data_name == \"BoW\" and (model_name == \"agglomerative\" or model_name == \"gmm\")) else X\n",
    "\n",
    "        best_params, best_score = test_model(model_func, X1, param_grid)\n",
    "        print(f\"Best for {model_name} on {data_name}: {best_params} with silhouette={best_score:.4f}\")\n",
    "        print(\"========================================\")\n",
    "\n",
    "# Save results to DataFrame and CSV\n",
    "df_results = pd.read_csv(\"performance_results.csv\")\n",
    "new_df = pd.DataFrame(results)\n",
    "\n",
    "# Concat if ran in multiple parts (computation limits)\n",
    "df = pd.concat([df_results, new_df], ignore_index=True)\n",
    "df_results.to_csv(\"performance_results.csv\", index=False)\n",
    "print(\"Results saved to 'performance_results.csv'\")\n"
   ],
   "id": "2b65ec51c45f0905",
   "outputs": [
    {
     "name": "stdout",
     "output_type": "stream",
     "text": [
      "\n",
      "Testing agglomerative on BoW\n",
      "Params: {'k': 4, 'linkage': 'complete', 'metric': 'euclidean'}, silhouette: 0.7321\n",
      "Params: {'k': 4, 'linkage': 'complete', 'metric': 'manhattan'}, silhouette: 0.7514\n",
      "Params: {'k': 4, 'linkage': 'complete', 'metric': 'cosine'}, silhouette: -0.1609\n",
      "Params: {'k': 4, 'linkage': 'average', 'metric': 'euclidean'}, silhouette: 0.7698\n",
      "Params: {'k': 4, 'linkage': 'average', 'metric': 'manhattan'}, silhouette: 0.6909\n",
      "Params: {'k': 4, 'linkage': 'average', 'metric': 'cosine'}, silhouette: -0.1987\n",
      "Params: {'k': 4, 'linkage': 'single', 'metric': 'euclidean'}, silhouette: 0.7517\n",
      "Params: {'k': 4, 'linkage': 'single', 'metric': 'manhattan'}, silhouette: 0.6909\n",
      "Params: {'k': 4, 'linkage': 'single', 'metric': 'cosine'}, silhouette: -0.2188\n",
      "Params: {'k': 6, 'linkage': 'complete', 'metric': 'euclidean'}, silhouette: 0.7165\n",
      "Params: {'k': 6, 'linkage': 'complete', 'metric': 'manhattan'}, silhouette: 0.7120\n",
      "Params: {'k': 6, 'linkage': 'complete', 'metric': 'cosine'}, silhouette: -0.1604\n",
      "Params: {'k': 6, 'linkage': 'average', 'metric': 'euclidean'}, silhouette: 0.7549\n",
      "Params: {'k': 6, 'linkage': 'average', 'metric': 'manhattan'}, silhouette: 0.6910\n",
      "Params: {'k': 6, 'linkage': 'average', 'metric': 'cosine'}, silhouette: -0.1984\n",
      "Params: {'k': 6, 'linkage': 'single', 'metric': 'euclidean'}, silhouette: 0.7313\n",
      "Params: {'k': 6, 'linkage': 'single', 'metric': 'manhattan'}, silhouette: 0.6910\n",
      "Params: {'k': 6, 'linkage': 'single', 'metric': 'cosine'}, silhouette: -0.2196\n",
      "Params: {'k': 8, 'linkage': 'complete', 'metric': 'euclidean'}, silhouette: 0.1176\n",
      "Params: {'k': 8, 'linkage': 'complete', 'metric': 'manhattan'}, silhouette: 0.6911\n",
      "Params: {'k': 8, 'linkage': 'complete', 'metric': 'cosine'}, silhouette: -0.1598\n",
      "Params: {'k': 8, 'linkage': 'average', 'metric': 'euclidean'}, silhouette: 0.7318\n",
      "Params: {'k': 8, 'linkage': 'average', 'metric': 'manhattan'}, silhouette: 0.6909\n",
      "Params: {'k': 8, 'linkage': 'average', 'metric': 'cosine'}, silhouette: -0.2311\n",
      "Params: {'k': 8, 'linkage': 'single', 'metric': 'euclidean'}, silhouette: 0.7286\n",
      "Params: {'k': 8, 'linkage': 'single', 'metric': 'manhattan'}, silhouette: 0.6909\n",
      "Params: {'k': 8, 'linkage': 'single', 'metric': 'cosine'}, silhouette: -0.2196\n",
      "Params: {'k': 10, 'linkage': 'complete', 'metric': 'euclidean'}, silhouette: 0.1212\n",
      "Params: {'k': 10, 'linkage': 'complete', 'metric': 'manhattan'}, silhouette: 0.6437\n",
      "Params: {'k': 10, 'linkage': 'complete', 'metric': 'cosine'}, silhouette: -0.1573\n",
      "Params: {'k': 10, 'linkage': 'average', 'metric': 'euclidean'}, silhouette: 0.7273\n",
      "Params: {'k': 10, 'linkage': 'average', 'metric': 'manhattan'}, silhouette: 0.6435\n"
     ]
    },
    {
     "ename": "KeyboardInterrupt",
     "evalue": "",
     "output_type": "error",
     "traceback": [
      "\u001B[31m---------------------------------------------------------------------------\u001B[39m",
      "\u001B[31mKeyboardInterrupt\u001B[39m                         Traceback (most recent call last)",
      "\u001B[36mCell\u001B[39m\u001B[36m \u001B[39m\u001B[32mIn[13]\u001B[39m\u001B[32m, line 59\u001B[39m\n\u001B[32m     55\u001B[39m model_func = model_functions[model_name]\n\u001B[32m     57\u001B[39m X1 = X.toarray() \u001B[38;5;28;01mif\u001B[39;00m (data_name == \u001B[33m\"\u001B[39m\u001B[33mBoW\u001B[39m\u001B[33m\"\u001B[39m \u001B[38;5;129;01mand\u001B[39;00m (model_name == \u001B[33m\"\u001B[39m\u001B[33magglomerative\u001B[39m\u001B[33m\"\u001B[39m \u001B[38;5;129;01mor\u001B[39;00m model_name == \u001B[33m\"\u001B[39m\u001B[33mgmm\u001B[39m\u001B[33m\"\u001B[39m)) \u001B[38;5;28;01melse\u001B[39;00m X\n\u001B[32m---> \u001B[39m\u001B[32m59\u001B[39m best_params, best_score = \u001B[43mtest_model\u001B[49m\u001B[43m(\u001B[49m\u001B[43mmodel_func\u001B[49m\u001B[43m,\u001B[49m\u001B[43m \u001B[49m\u001B[43mX1\u001B[49m\u001B[43m,\u001B[49m\u001B[43m \u001B[49m\u001B[43mparam_grid\u001B[49m\u001B[43m)\u001B[49m\n\u001B[32m     60\u001B[39m \u001B[38;5;28mprint\u001B[39m(\u001B[33mf\u001B[39m\u001B[33m\"\u001B[39m\u001B[33mBest for \u001B[39m\u001B[38;5;132;01m{\u001B[39;00mmodel_name\u001B[38;5;132;01m}\u001B[39;00m\u001B[33m on \u001B[39m\u001B[38;5;132;01m{\u001B[39;00mdata_name\u001B[38;5;132;01m}\u001B[39;00m\u001B[33m: \u001B[39m\u001B[38;5;132;01m{\u001B[39;00mbest_params\u001B[38;5;132;01m}\u001B[39;00m\u001B[33m with silhouette=\u001B[39m\u001B[38;5;132;01m{\u001B[39;00mbest_score\u001B[38;5;132;01m:\u001B[39;00m\u001B[33m.4f\u001B[39m\u001B[38;5;132;01m}\u001B[39;00m\u001B[33m\"\u001B[39m)\n\u001B[32m     61\u001B[39m \u001B[38;5;28mprint\u001B[39m(\u001B[33m\"\u001B[39m\u001B[33m========================================\u001B[39m\u001B[33m\"\u001B[39m)\n",
      "\u001B[36mCell\u001B[39m\u001B[36m \u001B[39m\u001B[32mIn[5]\u001B[39m\u001B[32m, line 13\u001B[39m, in \u001B[36mtest_model\u001B[39m\u001B[34m(model_func, X, param_grid)\u001B[39m\n\u001B[32m     11\u001B[39m params = \u001B[38;5;28mdict\u001B[39m(\u001B[38;5;28mzip\u001B[39m(param_grid.keys(), combo))\n\u001B[32m     12\u001B[39m \u001B[38;5;28;01mtry\u001B[39;00m:\n\u001B[32m---> \u001B[39m\u001B[32m13\u001B[39m     score, _ = \u001B[43mmodel_func\u001B[49m\u001B[43m(\u001B[49m\u001B[43mX\u001B[49m\u001B[43m,\u001B[49m\u001B[43m \u001B[49m\u001B[43m*\u001B[49m\u001B[43m*\u001B[49m\u001B[43mparams\u001B[49m\u001B[43m)\u001B[49m\n\u001B[32m     14\u001B[39m     \u001B[38;5;28;01mif\u001B[39;00m score \u001B[38;5;129;01mis\u001B[39;00m \u001B[38;5;129;01mnot\u001B[39;00m \u001B[38;5;28;01mNone\u001B[39;00m \u001B[38;5;129;01mand\u001B[39;00m score > best_score:\n\u001B[32m     15\u001B[39m         best_score = score\n",
      "\u001B[36mCell\u001B[39m\u001B[36m \u001B[39m\u001B[32mIn[8]\u001B[39m\u001B[32m, line 6\u001B[39m, in \u001B[36magglomerative_clustering\u001B[39m\u001B[34m(X, k, linkage, metric)\u001B[39m\n\u001B[32m      4\u001B[39m clustering = AgglomerativeClustering(n_clusters=k, linkage=linkage, metric=metric)\n\u001B[32m      5\u001B[39m labels = clustering.fit_predict(X)\n\u001B[32m----> \u001B[39m\u001B[32m6\u001B[39m sil = \u001B[43msilhouette_score\u001B[49m\u001B[43m(\u001B[49m\u001B[43mX\u001B[49m\u001B[43m,\u001B[49m\u001B[43m \u001B[49m\u001B[43mlabels\u001B[49m\u001B[43m)\u001B[49m\n\u001B[32m      7\u001B[39m \u001B[38;5;28;01mreturn\u001B[39;00m sil,labels\n",
      "\u001B[36mFile \u001B[39m\u001B[32m~/School/DM/DM_Projects/.venv/lib/python3.12/site-packages/sklearn/utils/_param_validation.py:216\u001B[39m, in \u001B[36mvalidate_params.<locals>.decorator.<locals>.wrapper\u001B[39m\u001B[34m(*args, **kwargs)\u001B[39m\n\u001B[32m    210\u001B[39m \u001B[38;5;28;01mtry\u001B[39;00m:\n\u001B[32m    211\u001B[39m     \u001B[38;5;28;01mwith\u001B[39;00m config_context(\n\u001B[32m    212\u001B[39m         skip_parameter_validation=(\n\u001B[32m    213\u001B[39m             prefer_skip_nested_validation \u001B[38;5;129;01mor\u001B[39;00m global_skip_validation\n\u001B[32m    214\u001B[39m         )\n\u001B[32m    215\u001B[39m     ):\n\u001B[32m--> \u001B[39m\u001B[32m216\u001B[39m         \u001B[38;5;28;01mreturn\u001B[39;00m \u001B[43mfunc\u001B[49m\u001B[43m(\u001B[49m\u001B[43m*\u001B[49m\u001B[43margs\u001B[49m\u001B[43m,\u001B[49m\u001B[43m \u001B[49m\u001B[43m*\u001B[49m\u001B[43m*\u001B[49m\u001B[43mkwargs\u001B[49m\u001B[43m)\u001B[49m\n\u001B[32m    217\u001B[39m \u001B[38;5;28;01mexcept\u001B[39;00m InvalidParameterError \u001B[38;5;28;01mas\u001B[39;00m e:\n\u001B[32m    218\u001B[39m     \u001B[38;5;66;03m# When the function is just a wrapper around an estimator, we allow\u001B[39;00m\n\u001B[32m    219\u001B[39m     \u001B[38;5;66;03m# the function to delegate validation to the estimator, but we replace\u001B[39;00m\n\u001B[32m    220\u001B[39m     \u001B[38;5;66;03m# the name of the estimator by the name of the function in the error\u001B[39;00m\n\u001B[32m    221\u001B[39m     \u001B[38;5;66;03m# message to avoid confusion.\u001B[39;00m\n\u001B[32m    222\u001B[39m     msg = re.sub(\n\u001B[32m    223\u001B[39m         \u001B[33mr\u001B[39m\u001B[33m\"\u001B[39m\u001B[33mparameter of \u001B[39m\u001B[33m\\\u001B[39m\u001B[33mw+ must be\u001B[39m\u001B[33m\"\u001B[39m,\n\u001B[32m    224\u001B[39m         \u001B[33mf\u001B[39m\u001B[33m\"\u001B[39m\u001B[33mparameter of \u001B[39m\u001B[38;5;132;01m{\u001B[39;00mfunc.\u001B[34m__qualname__\u001B[39m\u001B[38;5;132;01m}\u001B[39;00m\u001B[33m must be\u001B[39m\u001B[33m\"\u001B[39m,\n\u001B[32m    225\u001B[39m         \u001B[38;5;28mstr\u001B[39m(e),\n\u001B[32m    226\u001B[39m     )\n",
      "\u001B[36mFile \u001B[39m\u001B[32m~/School/DM/DM_Projects/.venv/lib/python3.12/site-packages/sklearn/metrics/cluster/_unsupervised.py:139\u001B[39m, in \u001B[36msilhouette_score\u001B[39m\u001B[34m(X, labels, metric, sample_size, random_state, **kwds)\u001B[39m\n\u001B[32m    137\u001B[39m     \u001B[38;5;28;01melse\u001B[39;00m:\n\u001B[32m    138\u001B[39m         X, labels = X[indices], labels[indices]\n\u001B[32m--> \u001B[39m\u001B[32m139\u001B[39m \u001B[38;5;28;01mreturn\u001B[39;00m np.mean(\u001B[43msilhouette_samples\u001B[49m\u001B[43m(\u001B[49m\u001B[43mX\u001B[49m\u001B[43m,\u001B[49m\u001B[43m \u001B[49m\u001B[43mlabels\u001B[49m\u001B[43m,\u001B[49m\u001B[43m \u001B[49m\u001B[43mmetric\u001B[49m\u001B[43m=\u001B[49m\u001B[43mmetric\u001B[49m\u001B[43m,\u001B[49m\u001B[43m \u001B[49m\u001B[43m*\u001B[49m\u001B[43m*\u001B[49m\u001B[43mkwds\u001B[49m\u001B[43m)\u001B[49m)\n",
      "\u001B[36mFile \u001B[39m\u001B[32m~/School/DM/DM_Projects/.venv/lib/python3.12/site-packages/sklearn/utils/_param_validation.py:189\u001B[39m, in \u001B[36mvalidate_params.<locals>.decorator.<locals>.wrapper\u001B[39m\u001B[34m(*args, **kwargs)\u001B[39m\n\u001B[32m    187\u001B[39m global_skip_validation = get_config()[\u001B[33m\"\u001B[39m\u001B[33mskip_parameter_validation\u001B[39m\u001B[33m\"\u001B[39m]\n\u001B[32m    188\u001B[39m \u001B[38;5;28;01mif\u001B[39;00m global_skip_validation:\n\u001B[32m--> \u001B[39m\u001B[32m189\u001B[39m     \u001B[38;5;28;01mreturn\u001B[39;00m \u001B[43mfunc\u001B[49m\u001B[43m(\u001B[49m\u001B[43m*\u001B[49m\u001B[43margs\u001B[49m\u001B[43m,\u001B[49m\u001B[43m \u001B[49m\u001B[43m*\u001B[49m\u001B[43m*\u001B[49m\u001B[43mkwargs\u001B[49m\u001B[43m)\u001B[49m\n\u001B[32m    191\u001B[39m func_sig = signature(func)\n\u001B[32m    193\u001B[39m \u001B[38;5;66;03m# Map *args/**kwargs to the function signature\u001B[39;00m\n",
      "\u001B[36mFile \u001B[39m\u001B[32m~/School/DM/DM_Projects/.venv/lib/python3.12/site-packages/sklearn/metrics/cluster/_unsupervised.py:303\u001B[39m, in \u001B[36msilhouette_samples\u001B[39m\u001B[34m(X, labels, metric, **kwds)\u001B[39m\n\u001B[32m    299\u001B[39m kwds[\u001B[33m\"\u001B[39m\u001B[33mmetric\u001B[39m\u001B[33m\"\u001B[39m] = metric\n\u001B[32m    300\u001B[39m reduce_func = functools.partial(\n\u001B[32m    301\u001B[39m     _silhouette_reduce, labels=labels, label_freqs=label_freqs\n\u001B[32m    302\u001B[39m )\n\u001B[32m--> \u001B[39m\u001B[32m303\u001B[39m results = \u001B[38;5;28;43mzip\u001B[39;49m\u001B[43m(\u001B[49m\u001B[43m*\u001B[49m\u001B[43mpairwise_distances_chunked\u001B[49m\u001B[43m(\u001B[49m\u001B[43mX\u001B[49m\u001B[43m,\u001B[49m\u001B[43m \u001B[49m\u001B[43mreduce_func\u001B[49m\u001B[43m=\u001B[49m\u001B[43mreduce_func\u001B[49m\u001B[43m,\u001B[49m\u001B[43m \u001B[49m\u001B[43m*\u001B[49m\u001B[43m*\u001B[49m\u001B[43mkwds\u001B[49m\u001B[43m)\u001B[49m\u001B[43m)\u001B[49m\n\u001B[32m    304\u001B[39m intra_clust_dists, inter_clust_dists = results\n\u001B[32m    305\u001B[39m intra_clust_dists = np.concatenate(intra_clust_dists)\n",
      "\u001B[36mFile \u001B[39m\u001B[32m~/School/DM/DM_Projects/.venv/lib/python3.12/site-packages/sklearn/metrics/pairwise.py:2252\u001B[39m, in \u001B[36mpairwise_distances_chunked\u001B[39m\u001B[34m(X, Y, reduce_func, metric, n_jobs, working_memory, **kwds)\u001B[39m\n\u001B[32m   2250\u001B[39m \u001B[38;5;28;01melse\u001B[39;00m:\n\u001B[32m   2251\u001B[39m     X_chunk = X[sl]\n\u001B[32m-> \u001B[39m\u001B[32m2252\u001B[39m D_chunk = \u001B[43mpairwise_distances\u001B[49m\u001B[43m(\u001B[49m\u001B[43mX_chunk\u001B[49m\u001B[43m,\u001B[49m\u001B[43m \u001B[49m\u001B[43mY\u001B[49m\u001B[43m,\u001B[49m\u001B[43m \u001B[49m\u001B[43mmetric\u001B[49m\u001B[43m=\u001B[49m\u001B[43mmetric\u001B[49m\u001B[43m,\u001B[49m\u001B[43m \u001B[49m\u001B[43mn_jobs\u001B[49m\u001B[43m=\u001B[49m\u001B[43mn_jobs\u001B[49m\u001B[43m,\u001B[49m\u001B[43m \u001B[49m\u001B[43m*\u001B[49m\u001B[43m*\u001B[49m\u001B[43mkwds\u001B[49m\u001B[43m)\u001B[49m\n\u001B[32m   2253\u001B[39m \u001B[38;5;28;01mif\u001B[39;00m (X \u001B[38;5;129;01mis\u001B[39;00m Y \u001B[38;5;129;01mor\u001B[39;00m Y \u001B[38;5;129;01mis\u001B[39;00m \u001B[38;5;28;01mNone\u001B[39;00m) \u001B[38;5;129;01mand\u001B[39;00m PAIRWISE_DISTANCE_FUNCTIONS.get(\n\u001B[32m   2254\u001B[39m     metric, \u001B[38;5;28;01mNone\u001B[39;00m\n\u001B[32m   2255\u001B[39m ) \u001B[38;5;129;01mis\u001B[39;00m euclidean_distances:\n\u001B[32m   2256\u001B[39m     \u001B[38;5;66;03m# zeroing diagonal, taking care of aliases of \"euclidean\",\u001B[39;00m\n\u001B[32m   2257\u001B[39m     \u001B[38;5;66;03m# i.e. \"l2\"\u001B[39;00m\n\u001B[32m   2258\u001B[39m     D_chunk.flat[sl.start :: _num_samples(X) + \u001B[32m1\u001B[39m] = \u001B[32m0\u001B[39m\n",
      "\u001B[36mFile \u001B[39m\u001B[32m~/School/DM/DM_Projects/.venv/lib/python3.12/site-packages/sklearn/utils/_param_validation.py:189\u001B[39m, in \u001B[36mvalidate_params.<locals>.decorator.<locals>.wrapper\u001B[39m\u001B[34m(*args, **kwargs)\u001B[39m\n\u001B[32m    187\u001B[39m global_skip_validation = get_config()[\u001B[33m\"\u001B[39m\u001B[33mskip_parameter_validation\u001B[39m\u001B[33m\"\u001B[39m]\n\u001B[32m    188\u001B[39m \u001B[38;5;28;01mif\u001B[39;00m global_skip_validation:\n\u001B[32m--> \u001B[39m\u001B[32m189\u001B[39m     \u001B[38;5;28;01mreturn\u001B[39;00m \u001B[43mfunc\u001B[49m\u001B[43m(\u001B[49m\u001B[43m*\u001B[49m\u001B[43margs\u001B[49m\u001B[43m,\u001B[49m\u001B[43m \u001B[49m\u001B[43m*\u001B[49m\u001B[43m*\u001B[49m\u001B[43mkwargs\u001B[49m\u001B[43m)\u001B[49m\n\u001B[32m    191\u001B[39m func_sig = signature(func)\n\u001B[32m    193\u001B[39m \u001B[38;5;66;03m# Map *args/**kwargs to the function signature\u001B[39;00m\n",
      "\u001B[36mFile \u001B[39m\u001B[32m~/School/DM/DM_Projects/.venv/lib/python3.12/site-packages/sklearn/metrics/pairwise.py:2480\u001B[39m, in \u001B[36mpairwise_distances\u001B[39m\u001B[34m(X, Y, metric, n_jobs, force_all_finite, ensure_all_finite, **kwds)\u001B[39m\n\u001B[32m   2477\u001B[39m         \u001B[38;5;28;01mreturn\u001B[39;00m distance.squareform(distance.pdist(X, metric=metric, **kwds))\n\u001B[32m   2478\u001B[39m     func = partial(distance.cdist, metric=metric, **kwds)\n\u001B[32m-> \u001B[39m\u001B[32m2480\u001B[39m \u001B[38;5;28;01mreturn\u001B[39;00m \u001B[43m_parallel_pairwise\u001B[49m\u001B[43m(\u001B[49m\u001B[43mX\u001B[49m\u001B[43m,\u001B[49m\u001B[43m \u001B[49m\u001B[43mY\u001B[49m\u001B[43m,\u001B[49m\u001B[43m \u001B[49m\u001B[43mfunc\u001B[49m\u001B[43m,\u001B[49m\u001B[43m \u001B[49m\u001B[43mn_jobs\u001B[49m\u001B[43m,\u001B[49m\u001B[43m \u001B[49m\u001B[43m*\u001B[49m\u001B[43m*\u001B[49m\u001B[43mkwds\u001B[49m\u001B[43m)\u001B[49m\n",
      "\u001B[36mFile \u001B[39m\u001B[32m~/School/DM/DM_Projects/.venv/lib/python3.12/site-packages/sklearn/metrics/pairwise.py:1973\u001B[39m, in \u001B[36m_parallel_pairwise\u001B[39m\u001B[34m(X, Y, func, n_jobs, **kwds)\u001B[39m\n\u001B[32m   1970\u001B[39m X, Y, dtype = _return_float_dtype(X, Y)\n\u001B[32m   1972\u001B[39m \u001B[38;5;28;01mif\u001B[39;00m effective_n_jobs(n_jobs) == \u001B[32m1\u001B[39m:\n\u001B[32m-> \u001B[39m\u001B[32m1973\u001B[39m     \u001B[38;5;28;01mreturn\u001B[39;00m \u001B[43mfunc\u001B[49m\u001B[43m(\u001B[49m\u001B[43mX\u001B[49m\u001B[43m,\u001B[49m\u001B[43m \u001B[49m\u001B[43mY\u001B[49m\u001B[43m,\u001B[49m\u001B[43m \u001B[49m\u001B[43m*\u001B[49m\u001B[43m*\u001B[49m\u001B[43mkwds\u001B[49m\u001B[43m)\u001B[49m\n\u001B[32m   1975\u001B[39m \u001B[38;5;66;03m# enforce a threading backend to prevent data communication overhead\u001B[39;00m\n\u001B[32m   1976\u001B[39m fd = delayed(_dist_wrapper)\n",
      "\u001B[36mFile \u001B[39m\u001B[32m~/School/DM/DM_Projects/.venv/lib/python3.12/site-packages/sklearn/utils/_param_validation.py:189\u001B[39m, in \u001B[36mvalidate_params.<locals>.decorator.<locals>.wrapper\u001B[39m\u001B[34m(*args, **kwargs)\u001B[39m\n\u001B[32m    187\u001B[39m global_skip_validation = get_config()[\u001B[33m\"\u001B[39m\u001B[33mskip_parameter_validation\u001B[39m\u001B[33m\"\u001B[39m]\n\u001B[32m    188\u001B[39m \u001B[38;5;28;01mif\u001B[39;00m global_skip_validation:\n\u001B[32m--> \u001B[39m\u001B[32m189\u001B[39m     \u001B[38;5;28;01mreturn\u001B[39;00m \u001B[43mfunc\u001B[49m\u001B[43m(\u001B[49m\u001B[43m*\u001B[49m\u001B[43margs\u001B[49m\u001B[43m,\u001B[49m\u001B[43m \u001B[49m\u001B[43m*\u001B[49m\u001B[43m*\u001B[49m\u001B[43mkwargs\u001B[49m\u001B[43m)\u001B[49m\n\u001B[32m    191\u001B[39m func_sig = signature(func)\n\u001B[32m    193\u001B[39m \u001B[38;5;66;03m# Map *args/**kwargs to the function signature\u001B[39;00m\n",
      "\u001B[36mFile \u001B[39m\u001B[32m~/School/DM/DM_Projects/.venv/lib/python3.12/site-packages/sklearn/metrics/pairwise.py:388\u001B[39m, in \u001B[36meuclidean_distances\u001B[39m\u001B[34m(X, Y, Y_norm_squared, squared, X_norm_squared)\u001B[39m\n\u001B[32m    382\u001B[39m     \u001B[38;5;28;01mif\u001B[39;00m Y_norm_squared.shape != (\u001B[32m1\u001B[39m, Y.shape[\u001B[32m0\u001B[39m]):\n\u001B[32m    383\u001B[39m         \u001B[38;5;28;01mraise\u001B[39;00m \u001B[38;5;167;01mValueError\u001B[39;00m(\n\u001B[32m    384\u001B[39m             \u001B[33mf\u001B[39m\u001B[33m\"\u001B[39m\u001B[33mIncompatible dimensions for Y of shape \u001B[39m\u001B[38;5;132;01m{\u001B[39;00mY.shape\u001B[38;5;132;01m}\u001B[39;00m\u001B[33m and \u001B[39m\u001B[33m\"\u001B[39m\n\u001B[32m    385\u001B[39m             \u001B[33mf\u001B[39m\u001B[33m\"\u001B[39m\u001B[33mY_norm_squared of shape \u001B[39m\u001B[38;5;132;01m{\u001B[39;00moriginal_shape\u001B[38;5;132;01m}\u001B[39;00m\u001B[33m.\u001B[39m\u001B[33m\"\u001B[39m\n\u001B[32m    386\u001B[39m         )\n\u001B[32m--> \u001B[39m\u001B[32m388\u001B[39m \u001B[38;5;28;01mreturn\u001B[39;00m \u001B[43m_euclidean_distances\u001B[49m\u001B[43m(\u001B[49m\u001B[43mX\u001B[49m\u001B[43m,\u001B[49m\u001B[43m \u001B[49m\u001B[43mY\u001B[49m\u001B[43m,\u001B[49m\u001B[43m \u001B[49m\u001B[43mX_norm_squared\u001B[49m\u001B[43m,\u001B[49m\u001B[43m \u001B[49m\u001B[43mY_norm_squared\u001B[49m\u001B[43m,\u001B[49m\u001B[43m \u001B[49m\u001B[43msquared\u001B[49m\u001B[43m)\u001B[49m\n",
      "\u001B[36mFile \u001B[39m\u001B[32m~/School/DM/DM_Projects/.venv/lib/python3.12/site-packages/sklearn/metrics/pairwise.py:441\u001B[39m, in \u001B[36m_euclidean_distances\u001B[39m\u001B[34m(X, Y, X_norm_squared, Y_norm_squared, squared)\u001B[39m\n\u001B[32m    438\u001B[39m \u001B[38;5;28;01mif\u001B[39;00m squared:\n\u001B[32m    439\u001B[39m     \u001B[38;5;28;01mreturn\u001B[39;00m distances\n\u001B[32m--> \u001B[39m\u001B[32m441\u001B[39m distances = \u001B[43m_modify_in_place_if_numpy\u001B[49m\u001B[43m(\u001B[49m\u001B[43mxp\u001B[49m\u001B[43m,\u001B[49m\u001B[43m \u001B[49m\u001B[43mxp\u001B[49m\u001B[43m.\u001B[49m\u001B[43msqrt\u001B[49m\u001B[43m,\u001B[49m\u001B[43m \u001B[49m\u001B[43mdistances\u001B[49m\u001B[43m,\u001B[49m\u001B[43m \u001B[49m\u001B[43mout\u001B[49m\u001B[43m=\u001B[49m\u001B[43mdistances\u001B[49m\u001B[43m)\u001B[49m\n\u001B[32m    442\u001B[39m \u001B[38;5;28;01mreturn\u001B[39;00m distances\n",
      "\u001B[36mFile \u001B[39m\u001B[32m~/School/DM/DM_Projects/.venv/lib/python3.12/site-packages/sklearn/utils/_array_api.py:1082\u001B[39m, in \u001B[36m_modify_in_place_if_numpy\u001B[39m\u001B[34m(xp, func, out, *args, **kwargs)\u001B[39m\n\u001B[32m   1080\u001B[39m \u001B[38;5;28;01mdef\u001B[39;00m\u001B[38;5;250m \u001B[39m\u001B[34m_modify_in_place_if_numpy\u001B[39m(xp, func, *args, out=\u001B[38;5;28;01mNone\u001B[39;00m, **kwargs):\n\u001B[32m   1081\u001B[39m     \u001B[38;5;28;01mif\u001B[39;00m _is_numpy_namespace(xp):\n\u001B[32m-> \u001B[39m\u001B[32m1082\u001B[39m         \u001B[43mfunc\u001B[49m\u001B[43m(\u001B[49m\u001B[43m*\u001B[49m\u001B[43margs\u001B[49m\u001B[43m,\u001B[49m\u001B[43m \u001B[49m\u001B[43mout\u001B[49m\u001B[43m=\u001B[49m\u001B[43mout\u001B[49m\u001B[43m,\u001B[49m\u001B[43m \u001B[49m\u001B[43m*\u001B[49m\u001B[43m*\u001B[49m\u001B[43mkwargs\u001B[49m\u001B[43m)\u001B[49m\n\u001B[32m   1083\u001B[39m     \u001B[38;5;28;01melse\u001B[39;00m:\n\u001B[32m   1084\u001B[39m         out = func(*args, **kwargs)\n",
      "\u001B[31mKeyboardInterrupt\u001B[39m: "
     ]
    }
   ],
   "execution_count": 13
  },
  {
   "metadata": {},
   "cell_type": "markdown",
   "source": "A Latex table is created to include in the report.",
   "id": "8ced7e27df6f2543"
  },
  {
   "metadata": {
    "ExecuteTime": {
     "end_time": "2025-05-25T17:01:02.935197Z",
     "start_time": "2025-05-25T17:01:02.890526Z"
    }
   },
   "cell_type": "code",
   "source": [
    "df_results = pd.read_csv(\"performance_results.csv\")\n",
    "df_results = df_results.drop(columns=[\"error\"])\n",
    "df_results = df_results.dropna(subset=[\"silhouette\"])\n",
    "df_results['silhouette'] = df_results['silhouette'].round(3)\n",
    "df_results['model_name'] = df_results['model_name'].str.replace('_clustering', '', regex=False)\n",
    "\n",
    "print(df_results.to_latex())"
   ],
   "id": "5c37a48e804bb39b",
   "outputs": [
    {
     "name": "stdout",
     "output_type": "stream",
     "text": [
      "\\begin{tabular}{llllr}\n",
      "\\toprule\n",
      " & data_name & model_name & params & silhouette \\\\\n",
      "\\midrule\n",
      "0 & UMAP & kmeans & {'k': 4} & 0.372000 \\\\\n",
      "1 & UMAP & kmeans & {'k': 6} & 0.434000 \\\\\n",
      "2 & UMAP & kmeans & {'k': 8} & 0.455000 \\\\\n",
      "3 & UMAP & kmeans & {'k': 10} & 0.405000 \\\\\n",
      "4 & UMAP & gmm & {'k': 4} & 0.509000 \\\\\n",
      "5 & UMAP & gmm & {'k': 6} & 0.429000 \\\\\n",
      "6 & UMAP & gmm & {'k': 8} & 0.465000 \\\\\n",
      "7 & UMAP & gmm & {'k': 10} & 0.424000 \\\\\n",
      "8 & UMAP & agglomerative & {'k': 4, 'linkage': 'complete', 'metric': 'euclidean'} & 0.352000 \\\\\n",
      "9 & UMAP & agglomerative & {'k': 4, 'linkage': 'complete', 'metric': 'manhattan'} & 0.355000 \\\\\n",
      "10 & UMAP & agglomerative & {'k': 4, 'linkage': 'complete', 'metric': 'cosine'} & 0.516000 \\\\\n",
      "11 & UMAP & agglomerative & {'k': 4, 'linkage': 'average', 'metric': 'euclidean'} & 0.500000 \\\\\n",
      "12 & UMAP & agglomerative & {'k': 4, 'linkage': 'average', 'metric': 'manhattan'} & 0.521000 \\\\\n",
      "13 & UMAP & agglomerative & {'k': 4, 'linkage': 'average', 'metric': 'cosine'} & 0.523000 \\\\\n",
      "14 & UMAP & agglomerative & {'k': 4, 'linkage': 'single', 'metric': 'euclidean'} & 0.340000 \\\\\n",
      "15 & UMAP & agglomerative & {'k': 4, 'linkage': 'single', 'metric': 'manhattan'} & 0.340000 \\\\\n",
      "16 & UMAP & agglomerative & {'k': 4, 'linkage': 'single', 'metric': 'cosine'} & 0.340000 \\\\\n",
      "17 & UMAP & agglomerative & {'k': 6, 'linkage': 'complete', 'metric': 'euclidean'} & 0.433000 \\\\\n",
      "18 & UMAP & agglomerative & {'k': 6, 'linkage': 'complete', 'metric': 'manhattan'} & 0.423000 \\\\\n",
      "19 & UMAP & agglomerative & {'k': 6, 'linkage': 'complete', 'metric': 'cosine'} & 0.414000 \\\\\n",
      "20 & UMAP & agglomerative & {'k': 6, 'linkage': 'average', 'metric': 'euclidean'} & 0.428000 \\\\\n",
      "21 & UMAP & agglomerative & {'k': 6, 'linkage': 'average', 'metric': 'manhattan'} & 0.416000 \\\\\n",
      "22 & UMAP & agglomerative & {'k': 6, 'linkage': 'average', 'metric': 'cosine'} & 0.414000 \\\\\n",
      "23 & UMAP & agglomerative & {'k': 6, 'linkage': 'single', 'metric': 'euclidean'} & 0.196000 \\\\\n",
      "24 & UMAP & agglomerative & {'k': 6, 'linkage': 'single', 'metric': 'manhattan'} & 0.197000 \\\\\n",
      "25 & UMAP & agglomerative & {'k': 6, 'linkage': 'single', 'metric': 'cosine'} & 0.196000 \\\\\n",
      "26 & UMAP & agglomerative & {'k': 8, 'linkage': 'complete', 'metric': 'euclidean'} & 0.456000 \\\\\n",
      "27 & UMAP & agglomerative & {'k': 8, 'linkage': 'complete', 'metric': 'manhattan'} & 0.408000 \\\\\n",
      "28 & UMAP & agglomerative & {'k': 8, 'linkage': 'complete', 'metric': 'cosine'} & 0.438000 \\\\\n",
      "29 & UMAP & agglomerative & {'k': 8, 'linkage': 'average', 'metric': 'euclidean'} & 0.436000 \\\\\n",
      "30 & UMAP & agglomerative & {'k': 8, 'linkage': 'average', 'metric': 'manhattan'} & 0.439000 \\\\\n",
      "31 & UMAP & agglomerative & {'k': 8, 'linkage': 'average', 'metric': 'cosine'} & 0.434000 \\\\\n",
      "32 & UMAP & agglomerative & {'k': 8, 'linkage': 'single', 'metric': 'euclidean'} & -0.024000 \\\\\n",
      "33 & UMAP & agglomerative & {'k': 8, 'linkage': 'single', 'metric': 'manhattan'} & -0.045000 \\\\\n",
      "34 & UMAP & agglomerative & {'k': 8, 'linkage': 'single', 'metric': 'cosine'} & -0.045000 \\\\\n",
      "35 & UMAP & agglomerative & {'k': 10, 'linkage': 'complete', 'metric': 'euclidean'} & 0.435000 \\\\\n",
      "36 & UMAP & agglomerative & {'k': 10, 'linkage': 'complete', 'metric': 'manhattan'} & 0.440000 \\\\\n",
      "37 & UMAP & agglomerative & {'k': 10, 'linkage': 'complete', 'metric': 'cosine'} & 0.443000 \\\\\n",
      "38 & UMAP & agglomerative & {'k': 10, 'linkage': 'average', 'metric': 'euclidean'} & 0.445000 \\\\\n",
      "39 & UMAP & agglomerative & {'k': 10, 'linkage': 'average', 'metric': 'manhattan'} & 0.413000 \\\\\n",
      "40 & UMAP & agglomerative & {'k': 10, 'linkage': 'average', 'metric': 'cosine'} & 0.443000 \\\\\n",
      "41 & UMAP & agglomerative & {'k': 10, 'linkage': 'single', 'metric': 'euclidean'} & -0.105000 \\\\\n",
      "42 & UMAP & agglomerative & {'k': 10, 'linkage': 'single', 'metric': 'manhattan'} & -0.066000 \\\\\n",
      "43 & UMAP & agglomerative & {'k': 10, 'linkage': 'single', 'metric': 'cosine'} & -0.077000 \\\\\n",
      "44 & UMAP & spectral & {'k': 4, 'affinity': 'rbf'} & 0.340000 \\\\\n",
      "45 & UMAP & spectral & {'k': 4, 'affinity': 'nearest_neighbors'} & -0.027000 \\\\\n",
      "46 & UMAP & spectral & {'k': 6, 'affinity': 'rbf'} & 0.415000 \\\\\n",
      "47 & UMAP & spectral & {'k': 6, 'affinity': 'nearest_neighbors'} & 0.028000 \\\\\n",
      "48 & UMAP & spectral & {'k': 8, 'affinity': 'rbf'} & 0.430000 \\\\\n",
      "49 & UMAP & spectral & {'k': 8, 'affinity': 'nearest_neighbors'} & -0.040000 \\\\\n",
      "50 & UMAP & spectral & {'k': 10, 'affinity': 'rbf'} & 0.422000 \\\\\n",
      "51 & UMAP & spectral & {'k': 10, 'affinity': 'nearest_neighbors'} & 0.029000 \\\\\n",
      "52 & UMAP & dbscan & {'eps_value': 0.3, 'min_samples': 3, 'metric': 'euclidean'} & -0.166000 \\\\\n",
      "53 & UMAP & dbscan & {'eps_value': 0.3, 'min_samples': 3, 'metric': 'manhattan'} & -0.059000 \\\\\n",
      "54 & UMAP & dbscan & {'eps_value': 0.3, 'min_samples': 8, 'metric': 'euclidean'} & 0.061000 \\\\\n",
      "55 & UMAP & dbscan & {'eps_value': 0.3, 'min_samples': 8, 'metric': 'manhattan'} & -0.198000 \\\\\n",
      "56 & UMAP & dbscan & {'eps_value': 0.5, 'min_samples': 3, 'metric': 'euclidean'} & -0.077000 \\\\\n",
      "57 & UMAP & dbscan & {'eps_value': 0.5, 'min_samples': 3, 'metric': 'manhattan'} & -0.024000 \\\\\n",
      "58 & UMAP & dbscan & {'eps_value': 0.5, 'min_samples': 8, 'metric': 'euclidean'} & -0.059000 \\\\\n",
      "59 & UMAP & dbscan & {'eps_value': 0.5, 'min_samples': 8, 'metric': 'manhattan'} & 0.107000 \\\\\n",
      "60 & UMAP & dbscan & {'eps_value': 0.7, 'min_samples': 3, 'metric': 'euclidean'} & 0.196000 \\\\\n",
      "61 & UMAP & dbscan & {'eps_value': 0.7, 'min_samples': 3, 'metric': 'manhattan'} & -0.166000 \\\\\n",
      "62 & UMAP & dbscan & {'eps_value': 0.7, 'min_samples': 8, 'metric': 'euclidean'} & 0.037000 \\\\\n",
      "63 & UMAP & dbscan & {'eps_value': 0.7, 'min_samples': 8, 'metric': 'manhattan'} & 0.146000 \\\\\n",
      "64 & BERT & kmeans & {'k': 4} & 0.051000 \\\\\n",
      "65 & BERT & kmeans & {'k': 6} & 0.049000 \\\\\n",
      "66 & BERT & kmeans & {'k': 8} & 0.048000 \\\\\n",
      "67 & BERT & kmeans & {'k': 10} & 0.046000 \\\\\n",
      "68 & BERT & gmm & {'k': 4} & 0.050000 \\\\\n",
      "69 & BERT & gmm & {'k': 6} & 0.050000 \\\\\n",
      "70 & BERT & gmm & {'k': 8} & 0.049000 \\\\\n",
      "71 & BERT & gmm & {'k': 10} & 0.045000 \\\\\n",
      "72 & BERT & agglomerative & {'k': 4, 'linkage': 'complete', 'metric': 'euclidean'} & 0.028000 \\\\\n",
      "73 & BERT & agglomerative & {'k': 4, 'linkage': 'complete', 'metric': 'manhattan'} & 0.029000 \\\\\n",
      "74 & BERT & agglomerative & {'k': 4, 'linkage': 'complete', 'metric': 'cosine'} & 0.028000 \\\\\n",
      "75 & BERT & agglomerative & {'k': 4, 'linkage': 'average', 'metric': 'euclidean'} & 0.085000 \\\\\n",
      "76 & BERT & agglomerative & {'k': 4, 'linkage': 'average', 'metric': 'manhattan'} & 0.084000 \\\\\n",
      "77 & BERT & agglomerative & {'k': 4, 'linkage': 'average', 'metric': 'cosine'} & 0.103000 \\\\\n",
      "78 & BERT & agglomerative & {'k': 4, 'linkage': 'single', 'metric': 'euclidean'} & 0.088000 \\\\\n",
      "79 & BERT & agglomerative & {'k': 4, 'linkage': 'single', 'metric': 'manhattan'} & 0.088000 \\\\\n",
      "80 & BERT & agglomerative & {'k': 4, 'linkage': 'single', 'metric': 'cosine'} & 0.088000 \\\\\n",
      "81 & BERT & agglomerative & {'k': 6, 'linkage': 'complete', 'metric': 'euclidean'} & 0.023000 \\\\\n",
      "82 & BERT & agglomerative & {'k': 6, 'linkage': 'complete', 'metric': 'manhattan'} & 0.031000 \\\\\n",
      "83 & BERT & agglomerative & {'k': 6, 'linkage': 'complete', 'metric': 'cosine'} & 0.023000 \\\\\n",
      "84 & BERT & agglomerative & {'k': 6, 'linkage': 'average', 'metric': 'euclidean'} & 0.074000 \\\\\n",
      "85 & BERT & agglomerative & {'k': 6, 'linkage': 'average', 'metric': 'manhattan'} & 0.072000 \\\\\n",
      "86 & BERT & agglomerative & {'k': 6, 'linkage': 'average', 'metric': 'cosine'} & 0.085000 \\\\\n",
      "87 & BERT & agglomerative & {'k': 6, 'linkage': 'single', 'metric': 'euclidean'} & 0.081000 \\\\\n",
      "88 & BERT & agglomerative & {'k': 6, 'linkage': 'single', 'metric': 'manhattan'} & 0.081000 \\\\\n",
      "89 & BERT & agglomerative & {'k': 6, 'linkage': 'single', 'metric': 'cosine'} & 0.081000 \\\\\n",
      "90 & BERT & agglomerative & {'k': 8, 'linkage': 'complete', 'metric': 'euclidean'} & 0.028000 \\\\\n",
      "91 & BERT & agglomerative & {'k': 8, 'linkage': 'complete', 'metric': 'manhattan'} & 0.031000 \\\\\n",
      "92 & BERT & agglomerative & {'k': 8, 'linkage': 'complete', 'metric': 'cosine'} & 0.028000 \\\\\n",
      "93 & BERT & agglomerative & {'k': 8, 'linkage': 'average', 'metric': 'euclidean'} & 0.062000 \\\\\n",
      "94 & BERT & agglomerative & {'k': 8, 'linkage': 'average', 'metric': 'manhattan'} & 0.066000 \\\\\n",
      "95 & BERT & agglomerative & {'k': 8, 'linkage': 'average', 'metric': 'cosine'} & 0.060000 \\\\\n",
      "96 & BERT & agglomerative & {'k': 8, 'linkage': 'single', 'metric': 'euclidean'} & 0.073000 \\\\\n",
      "97 & BERT & agglomerative & {'k': 8, 'linkage': 'single', 'metric': 'manhattan'} & 0.074000 \\\\\n",
      "98 & BERT & agglomerative & {'k': 8, 'linkage': 'single', 'metric': 'cosine'} & 0.073000 \\\\\n",
      "99 & BERT & agglomerative & {'k': 10, 'linkage': 'complete', 'metric': 'euclidean'} & 0.031000 \\\\\n",
      "100 & BERT & agglomerative & {'k': 10, 'linkage': 'complete', 'metric': 'manhattan'} & 0.028000 \\\\\n",
      "101 & BERT & agglomerative & {'k': 10, 'linkage': 'complete', 'metric': 'cosine'} & 0.031000 \\\\\n",
      "102 & BERT & agglomerative & {'k': 10, 'linkage': 'average', 'metric': 'euclidean'} & 0.051000 \\\\\n",
      "103 & BERT & agglomerative & {'k': 10, 'linkage': 'average', 'metric': 'manhattan'} & 0.054000 \\\\\n",
      "104 & BERT & agglomerative & {'k': 10, 'linkage': 'average', 'metric': 'cosine'} & 0.051000 \\\\\n",
      "105 & BERT & agglomerative & {'k': 10, 'linkage': 'single', 'metric': 'euclidean'} & 0.065000 \\\\\n",
      "106 & BERT & agglomerative & {'k': 10, 'linkage': 'single', 'metric': 'manhattan'} & 0.066000 \\\\\n",
      "107 & BERT & agglomerative & {'k': 10, 'linkage': 'single', 'metric': 'cosine'} & 0.065000 \\\\\n",
      "108 & BERT & spectral & {'k': 4, 'affinity': 'rbf'} & 0.047000 \\\\\n",
      "109 & BERT & spectral & {'k': 4, 'affinity': 'nearest_neighbors'} & 0.047000 \\\\\n",
      "110 & BERT & spectral & {'k': 6, 'affinity': 'rbf'} & 0.049000 \\\\\n",
      "111 & BERT & spectral & {'k': 6, 'affinity': 'nearest_neighbors'} & 0.035000 \\\\\n",
      "112 & BERT & spectral & {'k': 8, 'affinity': 'rbf'} & 0.045000 \\\\\n",
      "113 & BERT & spectral & {'k': 8, 'affinity': 'nearest_neighbors'} & 0.036000 \\\\\n",
      "114 & BERT & spectral & {'k': 10, 'affinity': 'rbf'} & 0.042000 \\\\\n",
      "115 & BERT & spectral & {'k': 10, 'affinity': 'nearest_neighbors'} & 0.025000 \\\\\n",
      "116 & BERT & dbscan & {'eps_value': 0.3, 'min_samples': 3, 'metric': 'euclidean'} & -0.113000 \\\\\n",
      "117 & BERT & dbscan & {'eps_value': 0.3, 'min_samples': 3, 'metric': 'manhattan'} & -0.104000 \\\\\n",
      "120 & BERT & dbscan & {'eps_value': 0.5, 'min_samples': 3, 'metric': 'euclidean'} & -0.137000 \\\\\n",
      "121 & BERT & dbscan & {'eps_value': 0.5, 'min_samples': 3, 'metric': 'manhattan'} & -0.104000 \\\\\n",
      "124 & BERT & dbscan & {'eps_value': 0.7, 'min_samples': 3, 'metric': 'euclidean'} & -0.165000 \\\\\n",
      "125 & BERT & dbscan & {'eps_value': 0.7, 'min_samples': 3, 'metric': 'manhattan'} & -0.104000 \\\\\n",
      "126 & BERT & dbscan & {'eps_value': 0.7, 'min_samples': 8, 'metric': 'euclidean'} & -0.130000 \\\\\n",
      "128 & catBoW & kmeans & {'k': 4} & 0.165000 \\\\\n",
      "129 & BoW & kmeans & {'k': 6} & 0.160000 \\\\\n",
      "130 & BoW & kmeans & {'k': 8} & 0.158000 \\\\\n",
      "131 & BoW & kmeans & {'k': 10} & 0.160000 \\\\\n",
      "132 & BoW & gmm & {'k': 4} & 0.245000 \\\\\n",
      "133 & BoW & gmm & {'k': 6} & 0.113000 \\\\\n",
      "134 & BoW & gmm & {'k': 8} & 0.096000 \\\\\n",
      "135 & BoW & gmm & {'k': 10} & 0.104000 \\\\\n",
      "136 & BoW & agglomerative & {'k': 4, 'linkage': 'complete', 'metric': 'euclidean'} & 0.768000 \\\\\n",
      "137 & BoW & agglomerative & {'k': 4, 'linkage': 'complete', 'metric': 'manhattan'} & 0.755000 \\\\\n",
      "138 & BoW & agglomerative & {'k': 4, 'linkage': 'complete', 'metric': 'cosine'} & -0.160000 \\\\\n",
      "139 & BoW & agglomerative & {'k': 4, 'linkage': 'average', 'metric': 'euclidean'} & 0.768000 \\\\\n",
      "140 & BoW & agglomerative & {'k': 4, 'linkage': 'average', 'metric': 'manhattan'} & 0.693000 \\\\\n",
      "141 & BoW & agglomerative & {'k': 4, 'linkage': 'average', 'metric': 'cosine'} & -0.166000 \\\\\n",
      "142 & BoW & agglomerative & {'k': 4, 'linkage': 'single', 'metric': 'euclidean'} & 0.765000 \\\\\n",
      "143 & BoW & agglomerative & {'k': 4, 'linkage': 'single', 'metric': 'manhattan'} & 0.693000 \\\\\n",
      "144 & BoW & agglomerative & {'k': 4, 'linkage': 'single', 'metric': 'cosine'} & -0.235000 \\\\\n",
      "145 & BoW & agglomerative & {'k': 6, 'linkage': 'complete', 'metric': 'euclidean'} & 0.125000 \\\\\n",
      "146 & BoW & agglomerative & {'k': 6, 'linkage': 'complete', 'metric': 'manhattan'} & 0.693000 \\\\\n",
      "147 & BoW & agglomerative & {'k': 6, 'linkage': 'complete', 'metric': 'cosine'} & -0.181000 \\\\\n",
      "148 & BoW & agglomerative & {'k': 6, 'linkage': 'average', 'metric': 'euclidean'} & 0.755000 \\\\\n",
      "149 & BoW & agglomerative & {'k': 6, 'linkage': 'average', 'metric': 'manhattan'} & 0.693000 \\\\\n",
      "150 & BoW & agglomerative & {'k': 6, 'linkage': 'average', 'metric': 'cosine'} & -0.196000 \\\\\n",
      "151 & BoW & agglomerative & {'k': 6, 'linkage': 'single', 'metric': 'euclidean'} & 0.738000 \\\\\n",
      "152 & BoW & agglomerative & {'k': 6, 'linkage': 'single', 'metric': 'manhattan'} & 0.693000 \\\\\n",
      "153 & BoW & agglomerative & {'k': 6, 'linkage': 'single', 'metric': 'cosine'} & -0.236000 \\\\\n",
      "154 & BoW & agglomerative & {'k': 8, 'linkage': 'complete', 'metric': 'euclidean'} & 0.112000 \\\\\n",
      "155 & BoW & agglomerative & {'k': 8, 'linkage': 'complete', 'metric': 'manhattan'} & 0.693000 \\\\\n",
      "156 & BoW & agglomerative & {'k': 8, 'linkage': 'complete', 'metric': 'cosine'} & -0.180000 \\\\\n",
      "157 & BoW & agglomerative & {'k': 8, 'linkage': 'average', 'metric': 'euclidean'} & 0.737000 \\\\\n",
      "158 & BoW & agglomerative & {'k': 8, 'linkage': 'average', 'metric': 'manhattan'} & 0.693000 \\\\\n",
      "159 & BoW & agglomerative & {'k': 8, 'linkage': 'average', 'metric': 'cosine'} & -0.221000 \\\\\n",
      "160 & BoW & agglomerative & {'k': 8, 'linkage': 'single', 'metric': 'euclidean'} & 0.720000 \\\\\n",
      "161 & BoW & agglomerative & {'k': 8, 'linkage': 'single', 'metric': 'manhattan'} & 0.693000 \\\\\n",
      "162 & BoW & agglomerative & {'k': 8, 'linkage': 'single', 'metric': 'cosine'} & -0.236000 \\\\\n",
      "163 & BoW & agglomerative & {'k': 10, 'linkage': 'complete', 'metric': 'euclidean'} & 0.112000 \\\\\n",
      "164 & BoW & agglomerative & {'k': 10, 'linkage': 'complete', 'metric': 'manhattan'} & 0.641000 \\\\\n",
      "165 & BoW & agglomerative & {'k': 10, 'linkage': 'complete', 'metric': 'cosine'} & -0.177000 \\\\\n",
      "166 & BoW & agglomerative & {'k': 10, 'linkage': 'average', 'metric': 'euclidean'} & 0.720000 \\\\\n",
      "167 & BoW & agglomerative & {'k': 10, 'linkage': 'average', 'metric': 'manhattan'} & 0.693000 \\\\\n",
      "168 & BoW & agglomerative & {'k': 10, 'linkage': 'average', 'metric': 'cosine'} & -0.220000 \\\\\n",
      "169 & BoW & agglomerative & {'k': 10, 'linkage': 'single', 'metric': 'euclidean'} & 0.718000 \\\\\n",
      "170 & BoW & agglomerative & {'k': 10, 'linkage': 'single', 'metric': 'manhattan'} & 0.693000 \\\\\n",
      "171 & BoW & agglomerative & {'k': 10, 'linkage': 'single', 'metric': 'cosine'} & -0.236000 \\\\\n",
      "180 & BoW & dbscan & {'eps_value': 0.3, 'min_samples': 3, 'metric': 'euclidean'} & -0.222000 \\\\\n",
      "181 & BoW & dbscan & {'eps_value': 0.3, 'min_samples': 3, 'metric': 'manhattan'} & -0.222000 \\\\\n",
      "184 & BoW & dbscan & {'eps_value': 0.5, 'min_samples': 3, 'metric': 'euclidean'} & -0.222000 \\\\\n",
      "185 & BoW & dbscan & {'eps_value': 0.5, 'min_samples': 3, 'metric': 'manhattan'} & -0.222000 \\\\\n",
      "188 & BoW & dbscan & {'eps_value': 0.7, 'min_samples': 3, 'metric': 'euclidean'} & -0.222000 \\\\\n",
      "189 & BoW & dbscan & {'eps_value': 0.7, 'min_samples': 3, 'metric': 'manhattan'} & -0.222000 \\\\\n",
      "\\bottomrule\n",
      "\\end{tabular}\n",
      "\n"
     ]
    }
   ],
   "execution_count": 24
  },
  {
   "metadata": {},
   "cell_type": "markdown",
   "source": "## TASK 3: Predict clusters in cluster.csv using best model.",
   "id": "e6845b86c1c32719"
  },
  {
   "metadata": {
    "ExecuteTime": {
     "end_time": "2025-06-12T13:16:34.170038Z",
     "start_time": "2025-06-12T13:16:19.344465Z"
    }
   },
   "cell_type": "code",
   "source": [
    "sil, labels = agglomerative_clustering(X_bert_UMAP, k=4, linkage=\"average\", metric=\"manhattan\")\n",
    "from collections import Counter\n",
    "\n",
    "label_counts = Counter(labels)\n",
    "print(sil)\n",
    "print(label_counts)\n",
    "\n",
    "print_common_words(labels)\n",
    "plot_clusters(X_bert_UMAP, labels, 4)\n"
   ],
   "id": "6a854f7650f30665",
   "outputs": [
    {
     "name": "stdout",
     "output_type": "stream",
     "text": [
      "0.5523086\n",
      "Counter({np.int64(0): 6453, np.int64(1): 1353, np.int64(3): 1293, np.int64(2): 901})\n",
      "Cluster 0 top 10 terms:\n",
      "  like: 3072.0000\n",
      "  taste: 3048.0000\n",
      "  great: 2923.0000\n",
      "  good: 2897.0000\n",
      "  product: 2688.0000\n",
      "  flavor: 2280.0000\n",
      "  one: 2089.0000\n",
      "  love: 1915.0000\n",
      "  would: 1504.0000\n",
      "  best: 1294.0000\n",
      "Cluster 1 top 10 terms:\n",
      "  dog: 2053.0000\n",
      "  food: 1873.0000\n",
      "  cat: 1251.0000\n",
      "  treat: 1045.0000\n",
      "  love: 928.0000\n",
      "  like: 645.0000\n",
      "  one: 625.0000\n",
      "  product: 537.0000\n",
      "  great: 478.0000\n",
      "  good: 467.0000\n",
      "Cluster 2 top 10 terms:\n",
      "  tea: 3010.0000\n",
      "  taste: 535.0000\n",
      "  like: 447.0000\n",
      "  good: 418.0000\n",
      "  flavor: 401.0000\n",
      "  great: 357.0000\n",
      "  green: 307.0000\n",
      "  one: 300.0000\n",
      "  bag: 280.0000\n",
      "  drink: 261.0000\n",
      "Cluster 3 top 10 terms:\n",
      "  coffee: 3153.0000\n",
      "  cup: 751.0000\n",
      "  like: 720.0000\n",
      "  good: 666.0000\n",
      "  taste: 607.0000\n",
      "  flavor: 595.0000\n",
      "  great: 529.0000\n",
      "  one: 492.0000\n",
      "  love: 360.0000\n",
      "  strong: 341.0000\n"
     ]
    },
    {
     "name": "stderr",
     "output_type": "stream",
     "text": [
      "/home/nielsvandenbroeck/School/DM/DM_Projects/.venv/lib/python3.12/site-packages/sklearn/utils/deprecation.py:151: FutureWarning: 'force_all_finite' was renamed to 'ensure_all_finite' in 1.6 and will be removed in 1.8.\n",
      "  warnings.warn(\n",
      "/home/nielsvandenbroeck/School/DM/DM_Projects/.venv/lib/python3.12/site-packages/umap/umap_.py:1952: UserWarning: n_jobs value 1 overridden to 1 by setting random_state. Use no seed for parallelism.\n",
      "  warn(\n"
     ]
    },
    {
     "data": {
      "text/plain": [
       "<Figure size 800x600 with 2 Axes>"
      ],
      "image/png": "[encoded data removed]"
     },
     "metadata": {},
     "output_type": "display_data"
    }
   ],
   "execution_count": 43
  },
  {
   "metadata": {},
   "cell_type": "markdown",
   "source": "Now simply fill in the labels in cluster.csv",
   "id": "a5b8597c0a97da55"
  },
  {
   "metadata": {
    "ExecuteTime": {
     "end_time": "2025-06-12T13:03:30.468162Z",
     "start_time": "2025-06-12T13:03:30.446729Z"
    }
   },
   "cell_type": "code",
   "source": [
    "clusterpd = pd.read_csv('../datasets/clusters.csv')\n",
    "clusterpd[\"cluster_id\"] = labels\n",
    "\n",
    "clusterpd.to_csv('../datasets/clusters.csv', index=False)\n"
   ],
   "id": "dd0c06a52c0bc119",
   "outputs": [],
   "execution_count": 30
  }
 ],
 "metadata": {
  "kernelspec": {
   "display_name": "Python 3",
   "language": "python",
   "name": "python3"
  },
  "language_info": {
   "codemirror_mode": {
    "name": "ipython",
    "version": 2
   },
   "file_extension": ".py",
   "mimetype": "text/x-python",
   "name": "python",
   "nbconvert_exporter": "python",
   "pygments_lexer": "ipython2",
   "version": "2.7.6"
  }
 },
 "nbformat": 4,
 "nbformat_minor": 5
}
