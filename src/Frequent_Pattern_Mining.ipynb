{
 "cells": [
  {
   "cell_type": "markdown",
   "id": "aac778cd",
   "metadata": {},
   "source": [
    "# Data Preprocessing for Retail Dataset\n",
    "### This notebook provides different methods for cleaning and preprocessing a retail dataset as well as finding rules with the apriori algorithm. You can choose different approaches based on your needs, such as filtering by date or maximizing the number of customers."
   ]
  },
  {
   "cell_type": "code",
   "id": "045a48cd",
   "metadata": {
    "ExecuteTime": {
     "end_time": "2025-03-21T10:23:26.858039Z",
     "start_time": "2025-03-21T10:23:26.268238Z"
    }
   },
   "source": [
    "import pandas as pd\n",
    "\n",
    "# Load dataset\n",
    "df = pd.read_csv(\"../datasets/retail.csv\")\n",
    "print(\"Dataset Loaded.\")\n",
    "df.head()"
   ],
   "outputs": [
    {
     "name": "stdout",
     "output_type": "stream",
     "text": [
      "Dataset Loaded.\n"
     ]
    },
    {
     "data": {
      "text/plain": [
       "  Invoice StockCode                          Description  Quantity  \\\n",
       "0  489434     85048  15CM CHRISTMAS GLASS BALL 20 LIGHTS        12   \n",
       "1  489434    79323P                   PINK CHERRY LIGHTS        12   \n",
       "2  489434    79323W                  WHITE CHERRY LIGHTS        12   \n",
       "3  489434     22041         RECORD FRAME 7\" SINGLE SIZE         48   \n",
       "4  489434     21232       STRAWBERRY CERAMIC TRINKET BOX        24   \n",
       "\n",
       "           InvoiceDate  Price  Customer ID         Country  \n",
       "0  2009-12-01 07:45:00   6.95      13085.0  United Kingdom  \n",
       "1  2009-12-01 07:45:00   6.75      13085.0  United Kingdom  \n",
       "2  2009-12-01 07:45:00   6.75      13085.0  United Kingdom  \n",
       "3  2009-12-01 07:45:00   2.10      13085.0  United Kingdom  \n",
       "4  2009-12-01 07:45:00   1.25      13085.0  United Kingdom  "
      ],
      "text/html": [
       "<div>\n",
       "<style scoped>\n",
       "    .dataframe tbody tr th:only-of-type {\n",
       "        vertical-align: middle;\n",
       "    }\n",
       "\n",
       "    .dataframe tbody tr th {\n",
       "        vertical-align: top;\n",
       "    }\n",
       "\n",
       "    .dataframe thead th {\n",
       "        text-align: right;\n",
       "    }\n",
       "</style>\n",
       "<table border=\"1\" class=\"dataframe\">\n",
       "  <thead>\n",
       "    <tr style=\"text-align: right;\">\n",
       "      <th></th>\n",
       "      <th>Invoice</th>\n",
       "      <th>StockCode</th>\n",
       "      <th>Description</th>\n",
       "      <th>Quantity</th>\n",
       "      <th>InvoiceDate</th>\n",
       "      <th>Price</th>\n",
       "      <th>Customer ID</th>\n",
       "      <th>Country</th>\n",
       "    </tr>\n",
       "  </thead>\n",
       "  <tbody>\n",
       "    <tr>\n",
       "      <th>0</th>\n",
       "      <td>489434</td>\n",
       "      <td>85048</td>\n",
       "      <td>15CM CHRISTMAS GLASS BALL 20 LIGHTS</td>\n",
       "      <td>12</td>\n",
       "      <td>2009-12-01 07:45:00</td>\n",
       "      <td>6.95</td>\n",
       "      <td>13085.0</td>\n",
       "      <td>United Kingdom</td>\n",
       "    </tr>\n",
       "    <tr>\n",
       "      <th>1</th>\n",
       "      <td>489434</td>\n",
       "      <td>79323P</td>\n",
       "      <td>PINK CHERRY LIGHTS</td>\n",
       "      <td>12</td>\n",
       "      <td>2009-12-01 07:45:00</td>\n",
       "      <td>6.75</td>\n",
       "      <td>13085.0</td>\n",
       "      <td>United Kingdom</td>\n",
       "    </tr>\n",
       "    <tr>\n",
       "      <th>2</th>\n",
       "      <td>489434</td>\n",
       "      <td>79323W</td>\n",
       "      <td>WHITE CHERRY LIGHTS</td>\n",
       "      <td>12</td>\n",
       "      <td>2009-12-01 07:45:00</td>\n",
       "      <td>6.75</td>\n",
       "      <td>13085.0</td>\n",
       "      <td>United Kingdom</td>\n",
       "    </tr>\n",
       "    <tr>\n",
       "      <th>3</th>\n",
       "      <td>489434</td>\n",
       "      <td>22041</td>\n",
       "      <td>RECORD FRAME 7\" SINGLE SIZE</td>\n",
       "      <td>48</td>\n",
       "      <td>2009-12-01 07:45:00</td>\n",
       "      <td>2.10</td>\n",
       "      <td>13085.0</td>\n",
       "      <td>United Kingdom</td>\n",
       "    </tr>\n",
       "    <tr>\n",
       "      <th>4</th>\n",
       "      <td>489434</td>\n",
       "      <td>21232</td>\n",
       "      <td>STRAWBERRY CERAMIC TRINKET BOX</td>\n",
       "      <td>24</td>\n",
       "      <td>2009-12-01 07:45:00</td>\n",
       "      <td>1.25</td>\n",
       "      <td>13085.0</td>\n",
       "      <td>United Kingdom</td>\n",
       "    </tr>\n",
       "  </tbody>\n",
       "</table>\n",
       "</div>"
      ]
     },
     "execution_count": 60,
     "metadata": {},
     "output_type": "execute_result"
    }
   ],
   "execution_count": 60
  },
  {
   "cell_type": "markdown",
   "id": "f2bae4a34b861eda",
   "metadata": {},
   "source": [
    "## Handling Missing Values\n",
    "### One way of handing missing values is to simply remove all the rows which contain missing values."
   ]
  },
  {
   "cell_type": "code",
   "id": "ebae72ca",
   "metadata": {
    "ExecuteTime": {
     "end_time": "2025-03-21T10:07:19.826953Z",
     "start_time": "2025-03-21T10:07:19.656828Z"
    }
   },
   "source": [
    "df.dropna(inplace=True)"
   ],
   "outputs": [],
   "execution_count": 18
  },
  {
   "cell_type": "markdown",
   "id": "b57fe5e0",
   "metadata": {},
   "source": [
    "### Since we would like to keep most of the data, we will apply some default values when the missing values are not that important, or when the entries can still be used for other feature extracting."
   ]
  },
  {
   "cell_type": "code",
   "id": "6937843d",
   "metadata": {
    "ExecuteTime": {
     "end_time": "2025-03-21T10:23:42.430544Z",
     "start_time": "2025-03-21T10:23:42.413092Z"
    }
   },
   "source": [
    "fill_na = {\n",
    "    \"Description\": \"No description available\",\n",
    "    \"Country\": \"Unknown\",\n",
    "    \"Customer ID\": 0,\n",
    "    \"Quantity\": 0,\n",
    "    \"InvoiceDate\": df[\"InvoiceDate\"].min()\n",
    "}\n",
    "df.fillna(fill_na, inplace=True)"
   ],
   "outputs": [],
   "execution_count": 62
  },
  {
   "cell_type": "markdown",
   "id": "04876e29",
   "metadata": {},
   "source": [
    "### When the Invoice or StockCode missing, we will discard the entries either way."
   ]
  },
  {
   "cell_type": "code",
   "id": "303c74a63cedf96f",
   "metadata": {
    "ExecuteTime": {
     "end_time": "2025-03-21T10:23:45.365502Z",
     "start_time": "2025-03-21T10:23:45.315659Z"
    }
   },
   "source": [
    "# Remove all transactions without Invoice and StockCode since these are important info\n",
    "df.dropna(subset=[\"Invoice\"], inplace=True)\n",
    "df.dropna(subset=[\"StockCode\"], inplace=True)"
   ],
   "outputs": [],
   "execution_count": 63
  },
  {
   "cell_type": "markdown",
   "id": "b8eb73b4",
   "metadata": {},
   "source": [
    "### When the price is missing, we will search for products with the same StockCode and take the price of that product."
   ]
  },
  {
   "cell_type": "code",
   "id": "d9bfa403",
   "metadata": {
    "ExecuteTime": {
     "end_time": "2025-03-21T10:23:49.550506Z",
     "start_time": "2025-03-21T10:23:48.914283Z"
    }
   },
   "source": [
    "# Search for other products with same StockCode and copy price if found.\n",
    "def fill_price(row):\n",
    "    if pd.isna(row[\"Price\"]):\n",
    "        stock_price = df.loc[df[\"StockCode\"] == row[\"StockCode\"], \"Price\"].dropna().iloc[0] if not df.loc[df[\"StockCode\"] == row[\"StockCode\"], \"Price\"].dropna().empty else np.nan\n",
    "        return stock_price\n",
    "    return row[\"Price\"]\n",
    "\n",
    "df[\"Price\"] = df.apply(fill_price, axis=1)"
   ],
   "outputs": [],
   "execution_count": 64
  },
  {
   "cell_type": "markdown",
   "id": "20cd99b3a166688e",
   "metadata": {},
   "source": [
    "\n",
    "\n",
    "### When the quantity of a transaction is negative, we assume that the product is returned and thus we can remove the entries."
   ]
  },
  {
   "cell_type": "code",
   "id": "7fe0493c",
   "metadata": {
    "ExecuteTime": {
     "end_time": "2025-03-21T10:23:50.866920Z",
     "start_time": "2025-03-21T10:23:50.854797Z"
    }
   },
   "source": "df = df.loc[df[\"Quantity\"] > 0].copy()",
   "outputs": [],
   "execution_count": 65
  },
  {
   "cell_type": "markdown",
   "id": "2ac9d086",
   "metadata": {},
   "source": [
    "## Filtering Dataset\n",
    "### A function is made such that you can choose on what to filter, and have the option to choose a random interval/selection"
   ]
  },
  {
   "cell_type": "code",
   "id": "b68cda41",
   "metadata": {
    "ExecuteTime": {
     "end_time": "2025-03-21T10:17:28.132281Z",
     "start_time": "2025-03-21T10:17:28.124246Z"
    }
   },
   "source": [
    "import numpy as np\n",
    "\n",
    "# Prune dataset based on column, amount and randomness. If random = False, take the first N entries.\n",
    "def prune_dataset(df, column, amount, random=False):\n",
    "    df[\"InvoiceDate\"] = pd.to_datetime(df[\"InvoiceDate\"])\n",
    "\n",
    "    # Filter by InvoiceDate\n",
    "    if column == \"InvoiceDate\":\n",
    "        if random:\n",
    "            unique_dates = df[\"InvoiceDate\"].dt.date.unique()\n",
    "            selected_dates = np.random.choice(unique_dates, min(amount, len(unique_dates)), replace=False)\n",
    "            df = df[df[\"InvoiceDate\"].dt.date.isin(selected_dates)]\n",
    "        else:\n",
    "            earliest_date = df[\"InvoiceDate\"].min()\n",
    "            df = df[df[\"InvoiceDate\"] < earliest_date + pd.Timedelta(days=amount)]\n",
    "\n",
    "    # Filter by Customer ID\n",
    "    elif column == \"Customer ID\":\n",
    "        unique_customers = df[\"Customer ID\"].unique()\n",
    "        if random:\n",
    "            selected_customers = np.random.choice(unique_customers, min(amount, len(unique_customers)), replace=False)\n",
    "        else:\n",
    "            selected_customers = df[\"Customer ID\"].value_counts().nsmallest(amount).index\n",
    "        df = df[df[\"Customer ID\"].isin(selected_customers)]\n",
    "\n",
    "    # Filter by Invoice\n",
    "    elif column == \"Invoice\":\n",
    "        unique_invoices = df[\"Invoice\"].unique()\n",
    "        if random:\n",
    "            selected_invoices = np.random.choice(unique_invoices, min(amount, len(unique_invoices)), replace=False)\n",
    "        else:\n",
    "            selected_invoices = df[\"Invoice\"].value_counts().nsmallest(amount).index\n",
    "        df = df[df[\"Invoice\"].isin(selected_invoices)]\n",
    "\n",
    "    return df"
   ],
   "outputs": [],
   "execution_count": 41
  },
  {
   "cell_type": "markdown",
   "id": "117475b0",
   "metadata": {},
   "source": "### You can now for example say you want the 100 last days of data."
  },
  {
   "cell_type": "code",
   "id": "b4fc2a62",
   "metadata": {
    "ExecuteTime": {
     "end_time": "2025-03-21T10:23:34.275869Z",
     "start_time": "2025-03-21T10:23:34.189742Z"
    }
   },
   "source": "df = prune_dataset(df, \"InvoiceDate\", 100, False)",
   "outputs": [],
   "execution_count": 61
  },
  {
   "cell_type": "markdown",
   "id": "eabd8b33",
   "metadata": {},
   "source": "### Or lets say say you want 30 random customers."
  },
  {
   "cell_type": "code",
   "execution_count": null,
   "id": "5375d866",
   "metadata": {},
   "outputs": [],
   "source": [
    "df = prune_dataset(df, \"Customer ID\", 30, True)"
   ]
  },
  {
   "cell_type": "markdown",
   "id": "e5c41126",
   "metadata": {},
   "source": [
    "## Feature Engineering\n",
    "### We can add different categories to easily seperate products/transaction/customers that are have things in common. A logical category for a retail dataset is by differentiating all transactions based on there time of purchase in the day. We can split in Morning, Afternoon, Evening and Night. Additionally, we can add a category for each day of the week."
   ]
  },
  {
   "cell_type": "code",
   "id": "af557360",
   "metadata": {
    "ExecuteTime": {
     "end_time": "2025-03-21T10:23:54.239379Z",
     "start_time": "2025-03-21T10:23:54.160842Z"
    }
   },
   "source": [
    "# Return moment of day based on hour\n",
    "def categorize_time(hour):\n",
    "    if 6 <= hour < 12:\n",
    "        return \"Morning\"\n",
    "    elif 12 <= hour < 18:\n",
    "        return \"Afternoon\"\n",
    "    elif 18 <= hour < 24:\n",
    "        return \"Evening\"\n",
    "    else:\n",
    "        return \"Night\"\n",
    "\n",
    "# Convert InvoiceDate to datetime format\n",
    "df[\"InvoiceDate\"] = pd.to_datetime(df[\"InvoiceDate\"])\n",
    "\n",
    "df[\"TimeOfDay\"] = df[\"InvoiceDate\"].dt.hour.apply(categorize_time)\n",
    "\n",
    "# Add category for day of week, placing \"Monday\", \"Tuesday\", ...\n",
    "df[\"DayOfWeek\"] = df[\"InvoiceDate\"].dt.day_name()"
   ],
   "outputs": [],
   "execution_count": 66
  },
  {
   "cell_type": "markdown",
   "id": "b82c46a7",
   "metadata": {},
   "source": "### For the categorization of the price and quantity of transactions, we can use pandas qcut to evenly distribute the entries."
  },
  {
   "cell_type": "code",
   "id": "a4163059",
   "metadata": {
    "ExecuteTime": {
     "end_time": "2025-03-21T10:23:56.531454Z",
     "start_time": "2025-03-21T10:23:56.510347Z"
    }
   },
   "source": [
    "# For splitting up the price category, only look at the prices of the unique products, eliminating the case where 1 product is bought multiple times and overrules other products.\n",
    "unique_prices = df.drop_duplicates(subset=\"StockCode\")[\"Price\"]\n",
    "price_bins, price_edges = pd.qcut(unique_prices, q=3, labels=[\"Cheap\", \"Mid-Range\", \"Expensive\"], duplicates=\"drop\", retbins=True)\n",
    "\n",
    "# Split up prices in \"Cheap', \"Mid-range\" and \"Expensive\n",
    "df[\"PriceCategory\"] = pd.cut(df[\"Price\"], bins=price_edges, labels=[\"Cheap\", \"Mid-Range\", \"Expensive\"], include_lowest=True)\n",
    "print(price_edges)\n",
    "\n",
    "# Split up quantities in \"Small', \"Medium\" and \"Large\"\n",
    "df[\"QuantityCategory\"], quantity_edges = pd.qcut(df[\"Quantity\"], q=3, labels=[\"Small\", \"Medium\", \"Large\"], duplicates=\"drop\", retbins=True)\n",
    "print(quantity_edges)"
   ],
   "outputs": [
    {
     "name": "stdout",
     "output_type": "stream",
     "text": [
      "[  0.     1.65   3.9  647.19]\n",
      "[1.0000e+00 2.0000e+00 6.0000e+00 1.9152e+04]\n"
     ]
    }
   ],
   "execution_count": 67
  },
  {
   "metadata": {},
   "cell_type": "markdown",
   "source": "### We can create some plots to show the distribution of the entries and get a better view of the data.",
   "id": "74d5ae9ff36c04fc"
  },
  {
   "metadata": {
    "ExecuteTime": {
     "end_time": "2025-03-21T17:28:31.072086Z",
     "start_time": "2025-03-21T17:28:30.484324Z"
    }
   },
   "cell_type": "code",
   "source": [
    "import seaborn as sns\n",
    "import matplotlib.pyplot as plt\n",
    "\n",
    "plt.figure(figsize=(10, 6))\n",
    "sns.countplot(x=\"DayOfWeek\", data=df, order=[\n",
    "    \"Monday\", \"Tuesday\", \"Wednesday\", \"Thursday\", \"Friday\", \"Saturday\", \"Sunday\"\n",
    "])\n",
    "plt.title(\"Number of Transactions by Day of the Week\")\n",
    "plt.ylabel(\"Number of Transactions\")\n",
    "plt.xlabel(\"Day of the Week\")\n",
    "plt.show()\n",
    "\n",
    "plt.figure(figsize=(8, 6))\n",
    "sns.countplot(x=\"PriceCategory\", data=df)\n",
    "plt.title(\"Number of Transactions by Price Category\")\n",
    "plt.ylabel(\"Number of Transactions\")\n",
    "plt.xlabel(\"Price Category\")\n",
    "plt.show()\n",
    "\n",
    "plt.figure(figsize=(8, 6))\n",
    "sns.countplot(x=\"TimeOfDay\", data=df, order=[\"Morning\", \"Afternoon\", \"Evening\", \"Night\"])\n",
    "plt.title(\"Number of Transactions by Time of Day\")\n",
    "plt.ylabel(\"Number of Transactions\")\n",
    "plt.xlabel(\"Time of Day\")\n",
    "plt.show()\n",
    "\n",
    "plt.figure(figsize=(8, 6))\n",
    "sns.countplot(x=\"QuantityCategory\", data=df)\n",
    "plt.title(\"Number of Transactions by Quantity Category\")\n",
    "plt.ylabel(\"Number of Transactions\")\n",
    "plt.xlabel(\"Quantity Category\")\n",
    "plt.show()"
   ],
   "id": "72de2056b76aa981",
   "outputs": [
    {
     "data": {
      "text/plain": [
       "<Figure size 1000x600 with 1 Axes>"
      ],
      "image/png": "[encoded data removed]"
     },
     "metadata": {},
     "output_type": "display_data"
    },
    {
     "data": {
      "text/plain": [
       "<Figure size 800x600 with 1 Axes>"
      ],
      "image/png": "[encoded data removed]"
     },
     "metadata": {},
     "output_type": "display_data"
    },
    {
     "data": {
      "text/plain": [
       "<Figure size 800x600 with 1 Axes>"
      ],
      "image/png": "[encoded data removed]"
     },
     "metadata": {},
     "output_type": "display_data"
    },
    {
     "data": {
      "text/plain": [
       "<Figure size 800x600 with 1 Axes>"
      ],
      "image/png": "[encoded data removed]"
     },
     "metadata": {},
     "output_type": "display_data"
    }
   ],
   "execution_count": 134
  },
  {
   "metadata": {},
   "cell_type": "markdown",
   "source": [
    "## Mining Association Rules\n",
    "### Before mining the rules in the dataset, I created a function that prints out the best rules in a clean format, showing the Support, Confidence and Lift, as well as the description if mining was done on stockcodes."
   ],
   "id": "9fcbeece24bf92ea"
  },
  {
   "metadata": {
    "ExecuteTime": {
     "end_time": "2025-03-21T15:54:25.411051Z",
     "start_time": "2025-03-21T15:54:25.406540Z"
    }
   },
   "cell_type": "code",
   "source": [
    "def print_association_rules(rules, mapping=None, top_n=10):\n",
    "    # Function to convert StockCode to Description\n",
    "    def map_item(item):\n",
    "        if mapping is not None:\n",
    "            return mapping.get(item, item)\n",
    "        return item\n",
    "\n",
    "    # Sort rules by highest confidence\n",
    "    sorted_rules = sorted(\n",
    "        rules,\n",
    "        key=lambda rule: max(stat.confidence for stat in rule.ordered_statistics),\n",
    "        reverse=True\n",
    "    )\n",
    "\n",
    "    # Print product association rules with descriptions\n",
    "    print(\"\\n--- ASSOCIATION RULES (Sorted by Confidence) ---\\n\")\n",
    "    for rule in sorted_rules[:top_n]:\n",
    "        # Convert StockCodes to Descriptions\n",
    "        items = [map_item(x) for x in rule.items]\n",
    "        print(f\"Rule: {items} | Support: {rule.support:.4f}\")\n",
    "\n",
    "        for ordered_stat in rule.ordered_statistics:\n",
    "            base = ', '.join(map(map_item, ordered_stat.items_base))\n",
    "            add = ', '.join(map(map_item, ordered_stat.items_add))\n",
    "            print(f\"  {base} -> {add} | Confidence: {ordered_stat.confidence:.4f} | Lift: {ordered_stat.lift:.4f}\")\n",
    "        print(\"-\" * 50)\n"
   ],
   "id": "6e7f51ba3ae2280c",
   "outputs": [],
   "execution_count": 87
  },
  {
   "metadata": {},
   "cell_type": "markdown",
   "source": "### The most common case of pattern mining is to group the transactions where the invoice is the same, and get rules between different products.\n",
   "id": "a5896bdf887dfc54"
  },
  {
   "metadata": {
    "ExecuteTime": {
     "end_time": "2025-03-21T15:37:39.985769Z",
     "start_time": "2025-03-21T15:37:39.340919Z"
    }
   },
   "cell_type": "code",
   "source": [
    "from apyori import apriori\n",
    "\n",
    "# Used for mapping StockCodes to Descriptions\n",
    "stockcode_to_description = df.set_index(\"StockCode\")[\"Description\"].to_dict()\n",
    "\n",
    "product_transactions = df.groupby(\"Invoice\")[\"StockCode\"].apply(list).tolist()\n",
    "\n",
    "# Run Apriori for Product-Product category association\n",
    "product_rules = list(apriori(\n",
    "    product_transactions,\n",
    "    min_support=0.015,\n",
    "    min_confidence=0.5,\n",
    "    min_lift=1.1,\n",
    "    min_length=2\n",
    "))\n",
    "\n",
    "print_association_rules(product_rules, stockcode_to_description)"
   ],
   "id": "2800b4fb532be2fa",
   "outputs": [
    {
     "name": "stdout",
     "output_type": "stream",
     "text": [
      "\n",
      "--- PRODUCT ASSOCIATION RULES (Sorted by Confidence) ---\n",
      "\n",
      "Rule: ['PINK FELT EASTER EGG BASKET', 'BLUE FELT EASTER EGG BASKET'] | Support: 0.0167\n",
      "  BLUE FELT EASTER EGG BASKET -> PINK FELT EASTER EGG BASKET | Confidence: 0.8737 | Lift: 35.2670\n",
      "  PINK FELT EASTER EGG BASKET -> BLUE FELT EASTER EGG BASKET | Confidence: 0.6748 | Lift: 35.2670\n",
      "--------------------------------------------------\n",
      "Rule: ['SET/10 PINK SPOTTY PARTY CANDLES', 'SET/10 BLUE SPOTTY PARTY CANDLES'] | Support: 0.0175\n",
      "  SET/10 PINK SPOTTY PARTY CANDLES -> SET/10 BLUE SPOTTY PARTY CANDLES | Confidence: 0.6850 | Lift: 33.0216\n",
      "  SET/10 BLUE SPOTTY PARTY CANDLES -> SET/10 PINK SPOTTY PARTY CANDLES | Confidence: 0.8447 | Lift: 33.0216\n",
      "--------------------------------------------------\n",
      "Rule: ['RED HANGING HEART T-LIGHT HOLDER', 'WHITE HANGING HEART T-LIGHT HOLDER'] | Support: 0.0506\n",
      "  RED HANGING HEART T-LIGHT HOLDER -> WHITE HANGING HEART T-LIGHT HOLDER | Confidence: 0.7994 | Lift: 4.6257\n",
      "--------------------------------------------------\n",
      "Rule: ['TOILET METAL SIGN', 'BATHROOM METAL SIGN'] | Support: 0.0175\n",
      "  BATHROOM METAL SIGN -> TOILET METAL SIGN | Confidence: 0.5058 | Lift: 22.2245\n",
      "  TOILET METAL SIGN -> BATHROOM METAL SIGN | Confidence: 0.7699 | Lift: 22.2245\n",
      "--------------------------------------------------\n",
      "Rule: ['60 TEATIME FAIRY CAKE CASES', 'PACK OF 72 RETRO SPOT CAKE CASES', 'PACK OF 60 PINK PAISLEY CAKE CASES'] | Support: 0.0207\n",
      "  PACK OF 72 RETRO SPOT CAKE CASES, PACK OF 60 PINK PAISLEY CAKE CASES -> 60 TEATIME FAIRY CAKE CASES | Confidence: 0.6319 | Lift: 10.4232\n",
      "  60 TEATIME FAIRY CAKE CASES, PACK OF 72 RETRO SPOT CAKE CASES -> PACK OF 60 PINK PAISLEY CAKE CASES | Confidence: 0.5598 | Lift: 11.1173\n",
      "  60 TEATIME FAIRY CAKE CASES, PACK OF 60 PINK PAISLEY CAKE CASES -> PACK OF 72 RETRO SPOT CAKE CASES | Confidence: 0.7687 | Lift: 8.7733\n",
      "--------------------------------------------------\n",
      "Rule: ['60 TEATIME FAIRY CAKE CASES', 'PACK OF 72 RETRO SPOT CAKE CASES', '72 SWEETHEART FAIRY CAKE CASES'] | Support: 0.0193\n",
      "  60 TEATIME FAIRY CAKE CASES, PACK OF 72 RETRO SPOT CAKE CASES -> 72 SWEETHEART FAIRY CAKE CASES | Confidence: 0.5217 | Lift: 9.4888\n",
      "  PACK OF 72 RETRO SPOT CAKE CASES, 72 SWEETHEART FAIRY CAKE CASES -> 60 TEATIME FAIRY CAKE CASES | Confidence: 0.6234 | Lift: 10.2826\n",
      "  60 TEATIME FAIRY CAKE CASES, 72 SWEETHEART FAIRY CAKE CASES -> PACK OF 72 RETRO SPOT CAKE CASES | Confidence: 0.7680 | Lift: 8.7658\n",
      "--------------------------------------------------\n",
      "Rule: ['60 TEATIME FAIRY CAKE CASES', 'PACK OF 60 DINOSAUR CAKE CASES', 'PACK OF 72 RETRO SPOT CAKE CASES'] | Support: 0.0163\n",
      "  PACK OF 60 DINOSAUR CAKE CASES, PACK OF 72 RETRO SPOT CAKE CASES -> 60 TEATIME FAIRY CAKE CASES | Confidence: 0.7168 | Lift: 11.8239\n",
      "  60 TEATIME FAIRY CAKE CASES, PACK OF 60 DINOSAUR CAKE CASES -> PACK OF 72 RETRO SPOT CAKE CASES | Confidence: 0.7642 | Lift: 8.7219\n",
      "--------------------------------------------------\n",
      "Rule: ['TOY TIDY PINK RETROSPOT  ', 'TOY TIDY SPACEBOY  '] | Support: 0.0153\n",
      "  TOY TIDY SPACEBOY   -> TOY TIDY PINK RETROSPOT   | Confidence: 0.7451 | Lift: 25.8700\n",
      "  TOY TIDY PINK RETROSPOT   -> TOY TIDY SPACEBOY   | Confidence: 0.5315 | Lift: 25.8700\n",
      "--------------------------------------------------\n",
      "Rule: ['PINK DOUGHNUT TRINKET POT ', 'STRAWBERRY CERAMIC TRINKET BOX'] | Support: 0.0195\n",
      "  PINK DOUGHNUT TRINKET POT  -> STRAWBERRY CERAMIC TRINKET BOX | Confidence: 0.7239 | Lift: 8.3974\n",
      "--------------------------------------------------\n",
      "Rule: ['PACK OF 72 RETRO SPOT CAKE CASES', 'PACK OF 60 PINK PAISLEY CAKE CASES', '72 SWEETHEART FAIRY CAKE CASES'] | Support: 0.0161\n",
      "  PACK OF 72 RETRO SPOT CAKE CASES, 72 SWEETHEART FAIRY CAKE CASES -> PACK OF 60 PINK PAISLEY CAKE CASES | Confidence: 0.5195 | Lift: 10.3169\n",
      "  PACK OF 60 PINK PAISLEY CAKE CASES, 72 SWEETHEART FAIRY CAKE CASES -> PACK OF 72 RETRO SPOT CAKE CASES | Confidence: 0.7143 | Lift: 8.1527\n",
      "--------------------------------------------------\n"
     ]
    }
   ],
   "execution_count": 76
  },
  {
   "metadata": {},
   "cell_type": "markdown",
   "source": "### Now we can check if some products are more likely to get bought at certain times in the day:",
   "id": "ffbb8fd6d635469f"
  },
  {
   "metadata": {
    "ExecuteTime": {
     "end_time": "2025-03-21T16:16:06.841356Z",
     "start_time": "2025-03-21T16:16:04.572590Z"
    }
   },
   "cell_type": "code",
   "source": [
    "combined_transactions = df.groupby(\"Invoice\").apply(\n",
    "    lambda x: x.drop(columns=\"Invoice\")[\"StockCode\"].tolist() + [x[\"TimeOfDay\"].iloc[0]]\n",
    ").tolist()\n",
    "\n",
    "# Run Apriori for Product-TimeOfDay category association\n",
    "timing_rules = list(apriori(\n",
    "    combined_transactions,\n",
    "    min_support=0.02,\n",
    "    min_confidence=0.5,\n",
    "    min_lift=1.5,\n",
    "    min_length=2\n",
    "))\n",
    "\n",
    "# Filter out rules containing multiple time categories\n",
    "filtered_timing_rules = []\n",
    "for rule in timing_rules:\n",
    "    items = list(rule.items)\n",
    "\n",
    "    # Ensure TimeCategory is not repeated\n",
    "    time_categories = [item for item in items if item in [\"Morning\", \"Afternoon\", \"Evening\", \"Night\"]]\n",
    "\n",
    "    if len(time_categories) == 1:  # Only allow one time-related element\n",
    "        filtered_timing_rules.append(rule)\n",
    "\n",
    "print_association_rules(filtered_timing_rules, stockcode_to_description)\n"
   ],
   "id": "ed63b5f4cbe8cb61",
   "outputs": [
    {
     "name": "stderr",
     "output_type": "stream",
     "text": [
      "/tmp/ipykernel_20121/3544438249.py:1: DeprecationWarning: DataFrameGroupBy.apply operated on the grouping columns. This behavior is deprecated, and in a future version of pandas the grouping columns will be excluded from the operation. Either pass `include_groups=False` to exclude the groupings or explicitly select the grouping columns after groupby to silence this warning.\n",
      "  combined_transactions = df.groupby(\"Invoice\").apply(\n"
     ]
    },
    {
     "name": "stdout",
     "output_type": "stream",
     "text": [
      "\n",
      "--- PRODUCT ASSOCIATION RULES (Sorted by Confidence) ---\n",
      "\n",
      "Rule: ['Afternoon', 'RED HANGING HEART T-LIGHT HOLDER', 'WHITE HANGING HEART T-LIGHT HOLDER'] | Support: 0.0325\n",
      "  RED HANGING HEART T-LIGHT HOLDER -> Afternoon, WHITE HANGING HEART T-LIGHT HOLDER | Confidence: 0.5127 | Lift: 4.4790\n",
      "  Afternoon, RED HANGING HEART T-LIGHT HOLDER -> WHITE HANGING HEART T-LIGHT HOLDER | Confidence: 0.7630 | Lift: 4.4048\n",
      "--------------------------------------------------\n",
      "Rule: ['Afternoon', 'PACK OF 72 RETRO SPOT CAKE CASES', 'PACK OF 60 PINK PAISLEY CAKE CASES'] | Support: 0.0204\n",
      "  Afternoon, PACK OF 60 PINK PAISLEY CAKE CASES -> PACK OF 72 RETRO SPOT CAKE CASES | Confidence: 0.6196 | Lift: 7.0553\n",
      "--------------------------------------------------\n",
      "Rule: ['Afternoon', '60 TEATIME FAIRY CAKE CASES', 'PACK OF 72 RETRO SPOT CAKE CASES'] | Support: 0.0232\n",
      "  Afternoon, 60 TEATIME FAIRY CAKE CASES -> PACK OF 72 RETRO SPOT CAKE CASES | Confidence: 0.6117 | Lift: 6.9650\n",
      "--------------------------------------------------\n",
      "Rule: ['Afternoon', 'PACK OF 72 RETRO SPOT CAKE CASES', '72 SWEETHEART FAIRY CAKE CASES'] | Support: 0.0204\n",
      "  Afternoon, 72 SWEETHEART FAIRY CAKE CASES -> PACK OF 72 RETRO SPOT CAKE CASES | Confidence: 0.5706 | Lift: 6.4972\n",
      "--------------------------------------------------\n",
      "Rule: ['Afternoon', 'WHITE HANGING HEART T-LIGHT HOLDER', 'CREAM HEART CARD HOLDER'] | Support: 0.0240\n",
      "  Afternoon, CREAM HEART CARD HOLDER -> WHITE HANGING HEART T-LIGHT HOLDER | Confidence: 0.5535 | Lift: 3.1951\n",
      "--------------------------------------------------\n",
      "Rule: ['Afternoon', 'HOT WATER BOTTLE TEA AND SYMPATHY', 'CHOCOLATE HOT WATER BOTTLE'] | Support: 0.0202\n",
      "  Afternoon, CHOCOLATE HOT WATER BOTTLE -> HOT WATER BOTTLE TEA AND SYMPATHY | Confidence: 0.5405 | Lift: 7.8513\n",
      "--------------------------------------------------\n",
      "Rule: ['Afternoon', 'WHITE HANGING HEART T-LIGHT HOLDER', 'WOODEN FRAME ANTIQUE WHITE '] | Support: 0.0234\n",
      "  Afternoon, WOODEN FRAME ANTIQUE WHITE  -> WHITE HANGING HEART T-LIGHT HOLDER | Confidence: 0.5066 | Lift: 2.9242\n",
      "--------------------------------------------------\n"
     ]
    }
   ],
   "execution_count": 115
  },
  {
   "metadata": {},
   "cell_type": "markdown",
   "source": "### Instead of looking at the products, we can also look at customers and check if there are any associations with the price of the products they bought.",
   "id": "3e326ecbab559b53"
  },
  {
   "metadata": {
    "ExecuteTime": {
     "end_time": "2025-03-21T16:24:10.652398Z",
     "start_time": "2025-03-21T16:24:08.950098Z"
    }
   },
   "cell_type": "code",
   "source": [
    "combined_transactions = df.dropna(subset=[\"Customer ID\", \"PriceCategory\"]).apply(\n",
    "    lambda x: [str(x[\"Customer ID\"]), x[\"PriceCategory\"]], axis=1\n",
    ").tolist()\n",
    "\n",
    "# Run Apriori for customer-price category association\n",
    "customer_rules = list(apriori(\n",
    "    combined_transactions,\n",
    "    min_support=0.0005,\n",
    "    min_confidence=0.5,\n",
    "    min_lift=1.5,\n",
    "    min_length=2\n",
    "))\n",
    "\n",
    "# Filter out rules between price categories only (keep customer-price links)\n",
    "filtered_customer_rules = []\n",
    "for rule in customer_rules:\n",
    "    items = list(rule.items)\n",
    "\n",
    "    # Ensure only one price category is present in each rule\n",
    "    price_categories = [item for item in items if item in [\"Cheap\", \"Mid-Range\", \"Expensive\"]]\n",
    "\n",
    "    if len(price_categories) == 1:\n",
    "        filtered_customer_rules.append(rule)\n",
    "\n",
    "print_association_rules(filtered_customer_rules)\n"
   ],
   "id": "2ebc3ccfc6e586e1",
   "outputs": [
    {
     "name": "stdout",
     "output_type": "stream",
     "text": [
      "\n",
      "--- PRODUCT ASSOCIATION RULES (Sorted by Confidence) ---\n",
      "\n",
      "Rule: ['17589.0', 'Cheap'] | Support: 0.0010\n",
      "  17589.0 -> Cheap | Confidence: 0.7724 | Lift: 2.1316\n",
      "--------------------------------------------------\n",
      "Rule: ['13542.0', 'Expensive'] | Support: 0.0005\n",
      "  13542.0 -> Expensive | Confidence: 0.7564 | Lift: 2.5695\n",
      "--------------------------------------------------\n",
      "Rule: ['14286.0', 'Cheap'] | Support: 0.0009\n",
      "  14286.0 -> Cheap | Confidence: 0.7537 | Lift: 2.0801\n",
      "--------------------------------------------------\n",
      "Rule: ['Cheap', '14298.0'] | Support: 0.0013\n",
      "  14298.0 -> Cheap | Confidence: 0.7381 | Lift: 2.0369\n",
      "--------------------------------------------------\n",
      "Rule: ['Cheap', '15013.0'] | Support: 0.0007\n",
      "  15013.0 -> Cheap | Confidence: 0.7304 | Lift: 2.0158\n",
      "--------------------------------------------------\n",
      "Rule: ['Cheap', '13694.0'] | Support: 0.0029\n",
      "  13694.0 -> Cheap | Confidence: 0.7296 | Lift: 2.0135\n",
      "--------------------------------------------------\n",
      "Rule: ['Cheap', '12867.0'] | Support: 0.0008\n",
      "  12867.0 -> Cheap | Confidence: 0.7109 | Lift: 1.9620\n",
      "--------------------------------------------------\n",
      "Rule: ['16960.0', 'Cheap'] | Support: 0.0007\n",
      "  16960.0 -> Cheap | Confidence: 0.7069 | Lift: 1.9508\n",
      "--------------------------------------------------\n",
      "Rule: ['13975.0', 'Cheap'] | Support: 0.0007\n",
      "  13975.0 -> Cheap | Confidence: 0.7064 | Lift: 1.9495\n",
      "--------------------------------------------------\n",
      "Rule: ['Cheap', '17449.0'] | Support: 0.0007\n",
      "  17449.0 -> Cheap | Confidence: 0.6903 | Lift: 1.9049\n",
      "--------------------------------------------------\n"
     ]
    }
   ],
   "execution_count": 122
  },
  {
   "metadata": {},
   "cell_type": "markdown",
   "source": "### Lastly, we can check if a high price relates to a low quantity and a low price indicates a high quantity (or ofcourse in the other way).",
   "id": "eae2c3ad909c65ea"
  },
  {
   "metadata": {
    "ExecuteTime": {
     "end_time": "2025-03-21T17:50:01.791143Z",
     "start_time": "2025-03-21T17:50:00.663080Z"
    }
   },
   "cell_type": "code",
   "source": [
    "combined_transactions = df.dropna(subset=[\"QuantityCategory\",\"PriceCategory\"]).apply(\n",
    "    lambda x: [x[\"QuantityCategory\"], x[\"PriceCategory\"]], axis=1\n",
    ").tolist()\n",
    "\n",
    "# Run Apriori for price-quantity category association\n",
    "price_quantity_rules = list(apriori(\n",
    "    combined_transactions,\n",
    "    min_support=0.02,\n",
    "    min_confidence=0.3,\n",
    "    min_lift=1.1,\n",
    "    min_length=2\n",
    "))\n",
    "\n",
    "# Filter out rules between price categories only (keep customer-price links)\n",
    "filtered_price_quantity_rules = []\n",
    "for rule in price_quantity_rules:\n",
    "    items = list(rule.items)\n",
    "\n",
    "    # Ensure only one price category is present in each rule\n",
    "    price_categories = [item for item in items if item in [\"Cheap\", \"Mid-Range\", \"Expensive\"]]\n",
    "\n",
    "    if len(price_categories) == 1:\n",
    "        filtered_price_quantity_rules.append(rule)\n",
    "\n",
    "print_association_rules(filtered_price_quantity_rules)\n"
   ],
   "id": "d98d29fe3f5fbf76",
   "outputs": [
    {
     "name": "stdout",
     "output_type": "stream",
     "text": [
      "\n",
      "--- PRODUCT ASSOCIATION RULES (Sorted by Confidence) ---\n",
      "\n",
      "Rule: ['Expensive', 'Small'] | Support: 0.2017\n",
      "  Expensive -> Small | Confidence: 0.6851 | Lift: 1.4717\n",
      "  Small -> Expensive | Confidence: 0.4332 | Lift: 1.4717\n",
      "--------------------------------------------------\n",
      "Rule: ['Cheap', 'Large'] | Support: 0.1969\n",
      "  Cheap -> Large | Confidence: 0.5434 | Lift: 1.8632\n",
      "  Large -> Cheap | Confidence: 0.6752 | Lift: 1.8632\n",
      "--------------------------------------------------\n",
      "Rule: ['Medium', 'Mid-Range'] | Support: 0.1080\n",
      "  Medium -> Mid-Range | Confidence: 0.4447 | Lift: 1.2954\n",
      "  Mid-Range -> Medium | Confidence: 0.3145 | Lift: 1.2954\n",
      "--------------------------------------------------\n"
     ]
    }
   ],
   "execution_count": 135
  }
 ],
 "metadata": {
  "kernelspec": {
   "display_name": "Python 3 (ipykernel)",
   "language": "python",
   "name": "python3"
  }
 },
 "nbformat": 4,
 "nbformat_minor": 5
}
